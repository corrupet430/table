{
 "cells": [
  {
   "cell_type": "code",
   "execution_count": 1,
   "metadata": {
    "collapsed": true
   },
   "outputs": [],
   "source": [
    "from modules.client import OffVarianceClient\n",
    "from dotenv import dotenv_values\n",
    "\n",
    "config = dotenv_values('../.env')\n",
    "\n",
    "client = OffVarianceClient(config.get('OFF_VARIANCE_KEY'), data_path='../data')\n",
    "games_df = client.get_finished_events()"
   ]
  },
  {
   "cell_type": "code",
   "execution_count": 2,
   "outputs": [
    {
     "data": {
      "text/plain": "         ID_MATCH                 DATE                            TOURNAMENT  \\\n0          105037  01.01.1970 03:00:00  Netherlands Eerste Divisie 2020_2021   \n1          105037                  NaN  Netherlands Eerste Divisie 2020_2021   \n2          105037                  NaN  Netherlands Eerste Divisie 2020_2021   \n3          105037                  NaN  Netherlands Eerste Divisie 2020_2021   \n4          105037                  NaN  Netherlands Eerste Divisie 2020_2021   \n...           ...                  ...                                   ...   \n1629659    136352                  NaN          Australia A-League 2021_2022   \n1629660    136352                  NaN          Australia A-League 2021_2022   \n1629661    136352                  NaN          Australia A-League 2021_2022   \n1629662    136352                  NaN          Australia A-League 2021_2022   \n1629663    136352                  NaN          Australia A-League 2021_2022   \n\n        MINUTE SCORE                          PLAYER_1 RESULT_1   XG_1  \\\n0            9   0-0                               NaN      NaN    NaN   \n1           14   0-0  B. KUIPERS [Go] [Ahead] [Eagles]  blocked  0.019   \n2           18   0-0         S. BEUKEMA [AZ] [Alkmaar]     goal  0.513   \n3           20   1-0   E. EYIBIL [Go] [Ahead] [Eagles]     save  0.093   \n4           25   1-0                               NaN      NaN    NaN   \n...        ...   ...                               ...      ...    ...   \n1629659     81   0-0                               NaN      NaN    NaN   \n1629660     81   0-0                               NaN      NaN    NaN   \n1629661     83   0-0         D. STYNES [Perth] [Glory]  blocked  0.012   \n1629662     88   0-0         D. STYNES [Perth] [Glory]  missing  0.040   \n1629663     88   0-0                               NaN      NaN    NaN   \n\n                                           PLAYER_2 RESULT_2  ...  O-WIN1  \\\n0                          D. RIGO [Beerschot] [VA]  missing  ...    1.57   \n1                                               NaN      NaN  ...     NaN   \n2                                               NaN      NaN  ...     NaN   \n3                                               NaN      NaN  ...     NaN   \n4                          D. RIGO [Beerschot] [VA]  missing  ...     NaN   \n...                                             ...      ...  ...     ...   \n1629659  B. MIKELTADZE [Newcastle] [United] [Jets]   blocked  ...     NaN   \n1629660       D. INGHAM [Newcastle] [United] [Jets]  blocked  ...     NaN   \n1629661                                         NaN      NaN  ...     NaN   \n1629662                                         NaN      NaN  ...     NaN   \n1629663  B. MIKELTADZE [Newcastle] [United] [Jets]      save  ...     NaN   \n\n         O-DRAW  O-WIN2  O-TB25  O-TM25 C-WIN1 C-DRAW  C-WIN2  C-TB25  C-TM25  \n0          4.42    5.88    1.63    2.33   1.64   4.16    5.53    1.74    2.19  \n1           NaN     NaN     NaN     NaN    NaN    NaN     NaN     NaN     NaN  \n2           NaN     NaN     NaN     NaN    NaN    NaN     NaN     NaN     NaN  \n3           NaN     NaN     NaN     NaN    NaN    NaN     NaN     NaN     NaN  \n4           NaN     NaN     NaN     NaN    NaN    NaN     NaN     NaN     NaN  \n...         ...     ...     ...     ...    ...    ...     ...     ...     ...  \n1629659     NaN     NaN     NaN     NaN    NaN    NaN     NaN     NaN     NaN  \n1629660     NaN     NaN     NaN     NaN    NaN    NaN     NaN     NaN     NaN  \n1629661     NaN     NaN     NaN     NaN    NaN    NaN     NaN     NaN     NaN  \n1629662     NaN     NaN     NaN     NaN    NaN    NaN     NaN     NaN     NaN  \n1629663     NaN     NaN     NaN     NaN    NaN    NaN     NaN     NaN     NaN  \n\n[1629664 rows x 27 columns]",
      "text/html": "<div>\n<style scoped>\n    .dataframe tbody tr th:only-of-type {\n        vertical-align: middle;\n    }\n\n    .dataframe tbody tr th {\n        vertical-align: top;\n    }\n\n    .dataframe thead th {\n        text-align: right;\n    }\n</style>\n<table border=\"1\" class=\"dataframe\">\n  <thead>\n    <tr style=\"text-align: right;\">\n      <th></th>\n      <th>ID_MATCH</th>\n      <th>DATE</th>\n      <th>TOURNAMENT</th>\n      <th>MINUTE</th>\n      <th>SCORE</th>\n      <th>PLAYER_1</th>\n      <th>RESULT_1</th>\n      <th>XG_1</th>\n      <th>PLAYER_2</th>\n      <th>RESULT_2</th>\n      <th>...</th>\n      <th>O-WIN1</th>\n      <th>O-DRAW</th>\n      <th>O-WIN2</th>\n      <th>O-TB25</th>\n      <th>O-TM25</th>\n      <th>C-WIN1</th>\n      <th>C-DRAW</th>\n      <th>C-WIN2</th>\n      <th>C-TB25</th>\n      <th>C-TM25</th>\n    </tr>\n  </thead>\n  <tbody>\n    <tr>\n      <th>0</th>\n      <td>105037</td>\n      <td>01.01.1970 03:00:00</td>\n      <td>Netherlands Eerste Divisie 2020_2021</td>\n      <td>9</td>\n      <td>0-0</td>\n      <td>NaN</td>\n      <td>NaN</td>\n      <td>NaN</td>\n      <td>D. RIGO [Beerschot] [VA]</td>\n      <td>missing</td>\n      <td>...</td>\n      <td>1.57</td>\n      <td>4.42</td>\n      <td>5.88</td>\n      <td>1.63</td>\n      <td>2.33</td>\n      <td>1.64</td>\n      <td>4.16</td>\n      <td>5.53</td>\n      <td>1.74</td>\n      <td>2.19</td>\n    </tr>\n    <tr>\n      <th>1</th>\n      <td>105037</td>\n      <td>NaN</td>\n      <td>Netherlands Eerste Divisie 2020_2021</td>\n      <td>14</td>\n      <td>0-0</td>\n      <td>B. KUIPERS [Go] [Ahead] [Eagles]</td>\n      <td>blocked</td>\n      <td>0.019</td>\n      <td>NaN</td>\n      <td>NaN</td>\n      <td>...</td>\n      <td>NaN</td>\n      <td>NaN</td>\n      <td>NaN</td>\n      <td>NaN</td>\n      <td>NaN</td>\n      <td>NaN</td>\n      <td>NaN</td>\n      <td>NaN</td>\n      <td>NaN</td>\n      <td>NaN</td>\n    </tr>\n    <tr>\n      <th>2</th>\n      <td>105037</td>\n      <td>NaN</td>\n      <td>Netherlands Eerste Divisie 2020_2021</td>\n      <td>18</td>\n      <td>0-0</td>\n      <td>S. BEUKEMA [AZ] [Alkmaar]</td>\n      <td>goal</td>\n      <td>0.513</td>\n      <td>NaN</td>\n      <td>NaN</td>\n      <td>...</td>\n      <td>NaN</td>\n      <td>NaN</td>\n      <td>NaN</td>\n      <td>NaN</td>\n      <td>NaN</td>\n      <td>NaN</td>\n      <td>NaN</td>\n      <td>NaN</td>\n      <td>NaN</td>\n      <td>NaN</td>\n    </tr>\n    <tr>\n      <th>3</th>\n      <td>105037</td>\n      <td>NaN</td>\n      <td>Netherlands Eerste Divisie 2020_2021</td>\n      <td>20</td>\n      <td>1-0</td>\n      <td>E. EYIBIL [Go] [Ahead] [Eagles]</td>\n      <td>save</td>\n      <td>0.093</td>\n      <td>NaN</td>\n      <td>NaN</td>\n      <td>...</td>\n      <td>NaN</td>\n      <td>NaN</td>\n      <td>NaN</td>\n      <td>NaN</td>\n      <td>NaN</td>\n      <td>NaN</td>\n      <td>NaN</td>\n      <td>NaN</td>\n      <td>NaN</td>\n      <td>NaN</td>\n    </tr>\n    <tr>\n      <th>4</th>\n      <td>105037</td>\n      <td>NaN</td>\n      <td>Netherlands Eerste Divisie 2020_2021</td>\n      <td>25</td>\n      <td>1-0</td>\n      <td>NaN</td>\n      <td>NaN</td>\n      <td>NaN</td>\n      <td>D. RIGO [Beerschot] [VA]</td>\n      <td>missing</td>\n      <td>...</td>\n      <td>NaN</td>\n      <td>NaN</td>\n      <td>NaN</td>\n      <td>NaN</td>\n      <td>NaN</td>\n      <td>NaN</td>\n      <td>NaN</td>\n      <td>NaN</td>\n      <td>NaN</td>\n      <td>NaN</td>\n    </tr>\n    <tr>\n      <th>...</th>\n      <td>...</td>\n      <td>...</td>\n      <td>...</td>\n      <td>...</td>\n      <td>...</td>\n      <td>...</td>\n      <td>...</td>\n      <td>...</td>\n      <td>...</td>\n      <td>...</td>\n      <td>...</td>\n      <td>...</td>\n      <td>...</td>\n      <td>...</td>\n      <td>...</td>\n      <td>...</td>\n      <td>...</td>\n      <td>...</td>\n      <td>...</td>\n      <td>...</td>\n      <td>...</td>\n    </tr>\n    <tr>\n      <th>1629659</th>\n      <td>136352</td>\n      <td>NaN</td>\n      <td>Australia A-League 2021_2022</td>\n      <td>81</td>\n      <td>0-0</td>\n      <td>NaN</td>\n      <td>NaN</td>\n      <td>NaN</td>\n      <td>B. MIKELTADZE [Newcastle] [United] [Jets]</td>\n      <td>blocked</td>\n      <td>...</td>\n      <td>NaN</td>\n      <td>NaN</td>\n      <td>NaN</td>\n      <td>NaN</td>\n      <td>NaN</td>\n      <td>NaN</td>\n      <td>NaN</td>\n      <td>NaN</td>\n      <td>NaN</td>\n      <td>NaN</td>\n    </tr>\n    <tr>\n      <th>1629660</th>\n      <td>136352</td>\n      <td>NaN</td>\n      <td>Australia A-League 2021_2022</td>\n      <td>81</td>\n      <td>0-0</td>\n      <td>NaN</td>\n      <td>NaN</td>\n      <td>NaN</td>\n      <td>D. INGHAM [Newcastle] [United] [Jets]</td>\n      <td>blocked</td>\n      <td>...</td>\n      <td>NaN</td>\n      <td>NaN</td>\n      <td>NaN</td>\n      <td>NaN</td>\n      <td>NaN</td>\n      <td>NaN</td>\n      <td>NaN</td>\n      <td>NaN</td>\n      <td>NaN</td>\n      <td>NaN</td>\n    </tr>\n    <tr>\n      <th>1629661</th>\n      <td>136352</td>\n      <td>NaN</td>\n      <td>Australia A-League 2021_2022</td>\n      <td>83</td>\n      <td>0-0</td>\n      <td>D. STYNES [Perth] [Glory]</td>\n      <td>blocked</td>\n      <td>0.012</td>\n      <td>NaN</td>\n      <td>NaN</td>\n      <td>...</td>\n      <td>NaN</td>\n      <td>NaN</td>\n      <td>NaN</td>\n      <td>NaN</td>\n      <td>NaN</td>\n      <td>NaN</td>\n      <td>NaN</td>\n      <td>NaN</td>\n      <td>NaN</td>\n      <td>NaN</td>\n    </tr>\n    <tr>\n      <th>1629662</th>\n      <td>136352</td>\n      <td>NaN</td>\n      <td>Australia A-League 2021_2022</td>\n      <td>88</td>\n      <td>0-0</td>\n      <td>D. STYNES [Perth] [Glory]</td>\n      <td>missing</td>\n      <td>0.040</td>\n      <td>NaN</td>\n      <td>NaN</td>\n      <td>...</td>\n      <td>NaN</td>\n      <td>NaN</td>\n      <td>NaN</td>\n      <td>NaN</td>\n      <td>NaN</td>\n      <td>NaN</td>\n      <td>NaN</td>\n      <td>NaN</td>\n      <td>NaN</td>\n      <td>NaN</td>\n    </tr>\n    <tr>\n      <th>1629663</th>\n      <td>136352</td>\n      <td>NaN</td>\n      <td>Australia A-League 2021_2022</td>\n      <td>88</td>\n      <td>0-0</td>\n      <td>NaN</td>\n      <td>NaN</td>\n      <td>NaN</td>\n      <td>B. MIKELTADZE [Newcastle] [United] [Jets]</td>\n      <td>save</td>\n      <td>...</td>\n      <td>NaN</td>\n      <td>NaN</td>\n      <td>NaN</td>\n      <td>NaN</td>\n      <td>NaN</td>\n      <td>NaN</td>\n      <td>NaN</td>\n      <td>NaN</td>\n      <td>NaN</td>\n      <td>NaN</td>\n    </tr>\n  </tbody>\n</table>\n<p>1629664 rows × 27 columns</p>\n</div>"
     },
     "execution_count": 2,
     "metadata": {},
     "output_type": "execute_result"
    }
   ],
   "source": [
    "games_df"
   ],
   "metadata": {
    "collapsed": false,
    "pycharm": {
     "name": "#%%\n"
    }
   }
  },
  {
   "cell_type": "code",
   "execution_count": 2,
   "outputs": [],
   "source": [],
   "metadata": {
    "collapsed": false,
    "pycharm": {
     "name": "#%%\n"
    }
   }
  }
 ],
 "metadata": {
  "kernelspec": {
   "display_name": "Python 3",
   "language": "python",
   "name": "python3"
  },
  "language_info": {
   "codemirror_mode": {
    "name": "ipython",
    "version": 2
   },
   "file_extension": ".py",
   "mimetype": "text/x-python",
   "name": "python",
   "nbconvert_exporter": "python",
   "pygments_lexer": "ipython2",
   "version": "2.7.6"
  }
 },
 "nbformat": 4,
 "nbformat_minor": 0
}