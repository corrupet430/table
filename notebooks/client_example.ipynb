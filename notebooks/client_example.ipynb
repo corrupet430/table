{
 "cells": [
  {
   "cell_type": "code",
   "execution_count": 1,
   "metadata": {
    "collapsed": true
   },
   "outputs": [],
   "source": [
    "from modules.client import OffVarianceClient\n",
    "from dotenv import dotenv_values\n",
    "\n",
    "config = dotenv_values('../.env')\n",
    "\n",
    "client = OffVarianceClient(config.get('OFF_VARIANCE_KEY'), data_path='../data')\n",
    "games_df = client.get_finished_events()"
   ]
  },
  {
   "cell_type": "code",
   "execution_count": 2,
   "outputs": [
    {
     "data": {
      "text/plain": "         ID_MATCH                 DATE                         TOURNAMENT  \\\n0          108286  01.01.1970 03:00:00    Germany 2. Bundesliga 2020_2021   \n1          108286                  NaN    Germany 2. Bundesliga 2020_2021   \n2          108286                  NaN    Germany 2. Bundesliga 2020_2021   \n3          108286                  NaN    Germany 2. Bundesliga 2020_2021   \n4          108286                  NaN    Germany 2. Bundesliga 2020_2021   \n...           ...                  ...                                ...   \n1629972    151129                  NaN  Colombia Primera A 2022 Апертура    \n1629973    151129                  NaN  Colombia Primera A 2022 Апертура    \n1629974    151129                  NaN  Colombia Primera A 2022 Апертура    \n1629975    151129                  NaN  Colombia Primera A 2022 Апертура    \n1629976    151129                  NaN  Colombia Primera A 2022 Апертура    \n\n        MINUTE SCORE                     PLAYER_1 RESULT_1   XG_1  \\\n0            5   0-0   D. KEITA-RUEL [Sandhausen]  blocked  0.613   \n1            8   0-0        J. BIADA [Sandhausen]  blocked  0.016   \n2           16   0-0        J. BIADA [Sandhausen]  blocked  0.012   \n3           17   0-0  K. BEHRENS [Union] [Berlin]  missing  0.106   \n4           19   0-0                          NaN      NaN    NaN   \n...        ...   ...                          ...      ...    ...   \n1629972     80   0-0    L. VÁSQUEZ [Millonarios]   missing  0.027   \n1629973     81   0-0     D. HERAZO [Millonarios]   missing  0.452   \n1629974     86   0-0                          NaN      NaN    NaN   \n1629975   90+2   0-0        D. RUIZ [Millonarios]  blocked  0.019   \n1629976   90+2   0-0       R. CELIS [Millonarios]     goal  0.576   \n\n                             PLAYER_2 RESULT_2  ...  O-WIN1  O-DRAW  O-WIN2  \\\n0                                 NaN      NaN  ...    4.99    3.89    1.72   \n1                                 NaN      NaN  ...     NaN     NaN     NaN   \n2                                 NaN      NaN  ...     NaN     NaN     NaN   \n3                                 NaN      NaN  ...     NaN     NaN     NaN   \n4          S. KITTEL [Hamburger] [SV]     save  ...     NaN     NaN     NaN   \n...                               ...      ...  ...     ...     ...     ...   \n1629972                           NaN      NaN  ...     NaN     NaN     NaN   \n1629973                           NaN      NaN  ...     NaN     NaN     NaN   \n1629974  M. BORJA [Atletico] [Junior]  missing  ...     NaN     NaN     NaN   \n1629975                           NaN      NaN  ...     NaN     NaN     NaN   \n1629976                           NaN      NaN  ...     NaN     NaN     NaN   \n\n         O-TB25  O-TM25 C-WIN1 C-DRAW  C-WIN2  C-TB25  C-TM25  \n0          1.68    2.24   5.46   4.15    1.65    1.66    2.31  \n1           NaN     NaN    NaN    NaN     NaN     NaN     NaN  \n2           NaN     NaN    NaN    NaN     NaN     NaN     NaN  \n3           NaN     NaN    NaN    NaN     NaN     NaN     NaN  \n4           NaN     NaN    NaN    NaN     NaN     NaN     NaN  \n...         ...     ...    ...    ...     ...     ...     ...  \n1629972     NaN     NaN    NaN    NaN     NaN     NaN     NaN  \n1629973     NaN     NaN    NaN    NaN     NaN     NaN     NaN  \n1629974     NaN     NaN    NaN    NaN     NaN     NaN     NaN  \n1629975     NaN     NaN    NaN    NaN     NaN     NaN     NaN  \n1629976     NaN     NaN    NaN    NaN     NaN     NaN     NaN  \n\n[1629977 rows x 27 columns]",
      "text/html": "<div>\n<style scoped>\n    .dataframe tbody tr th:only-of-type {\n        vertical-align: middle;\n    }\n\n    .dataframe tbody tr th {\n        vertical-align: top;\n    }\n\n    .dataframe thead th {\n        text-align: right;\n    }\n</style>\n<table border=\"1\" class=\"dataframe\">\n  <thead>\n    <tr style=\"text-align: right;\">\n      <th></th>\n      <th>ID_MATCH</th>\n      <th>DATE</th>\n      <th>TOURNAMENT</th>\n      <th>MINUTE</th>\n      <th>SCORE</th>\n      <th>PLAYER_1</th>\n      <th>RESULT_1</th>\n      <th>XG_1</th>\n      <th>PLAYER_2</th>\n      <th>RESULT_2</th>\n      <th>...</th>\n      <th>O-WIN1</th>\n      <th>O-DRAW</th>\n      <th>O-WIN2</th>\n      <th>O-TB25</th>\n      <th>O-TM25</th>\n      <th>C-WIN1</th>\n      <th>C-DRAW</th>\n      <th>C-WIN2</th>\n      <th>C-TB25</th>\n      <th>C-TM25</th>\n    </tr>\n  </thead>\n  <tbody>\n    <tr>\n      <th>0</th>\n      <td>108286</td>\n      <td>01.01.1970 03:00:00</td>\n      <td>Germany 2. Bundesliga 2020_2021</td>\n      <td>5</td>\n      <td>0-0</td>\n      <td>D. KEITA-RUEL [Sandhausen]</td>\n      <td>blocked</td>\n      <td>0.613</td>\n      <td>NaN</td>\n      <td>NaN</td>\n      <td>...</td>\n      <td>4.99</td>\n      <td>3.89</td>\n      <td>1.72</td>\n      <td>1.68</td>\n      <td>2.24</td>\n      <td>5.46</td>\n      <td>4.15</td>\n      <td>1.65</td>\n      <td>1.66</td>\n      <td>2.31</td>\n    </tr>\n    <tr>\n      <th>1</th>\n      <td>108286</td>\n      <td>NaN</td>\n      <td>Germany 2. Bundesliga 2020_2021</td>\n      <td>8</td>\n      <td>0-0</td>\n      <td>J. BIADA [Sandhausen]</td>\n      <td>blocked</td>\n      <td>0.016</td>\n      <td>NaN</td>\n      <td>NaN</td>\n      <td>...</td>\n      <td>NaN</td>\n      <td>NaN</td>\n      <td>NaN</td>\n      <td>NaN</td>\n      <td>NaN</td>\n      <td>NaN</td>\n      <td>NaN</td>\n      <td>NaN</td>\n      <td>NaN</td>\n      <td>NaN</td>\n    </tr>\n    <tr>\n      <th>2</th>\n      <td>108286</td>\n      <td>NaN</td>\n      <td>Germany 2. Bundesliga 2020_2021</td>\n      <td>16</td>\n      <td>0-0</td>\n      <td>J. BIADA [Sandhausen]</td>\n      <td>blocked</td>\n      <td>0.012</td>\n      <td>NaN</td>\n      <td>NaN</td>\n      <td>...</td>\n      <td>NaN</td>\n      <td>NaN</td>\n      <td>NaN</td>\n      <td>NaN</td>\n      <td>NaN</td>\n      <td>NaN</td>\n      <td>NaN</td>\n      <td>NaN</td>\n      <td>NaN</td>\n      <td>NaN</td>\n    </tr>\n    <tr>\n      <th>3</th>\n      <td>108286</td>\n      <td>NaN</td>\n      <td>Germany 2. Bundesliga 2020_2021</td>\n      <td>17</td>\n      <td>0-0</td>\n      <td>K. BEHRENS [Union] [Berlin]</td>\n      <td>missing</td>\n      <td>0.106</td>\n      <td>NaN</td>\n      <td>NaN</td>\n      <td>...</td>\n      <td>NaN</td>\n      <td>NaN</td>\n      <td>NaN</td>\n      <td>NaN</td>\n      <td>NaN</td>\n      <td>NaN</td>\n      <td>NaN</td>\n      <td>NaN</td>\n      <td>NaN</td>\n      <td>NaN</td>\n    </tr>\n    <tr>\n      <th>4</th>\n      <td>108286</td>\n      <td>NaN</td>\n      <td>Germany 2. Bundesliga 2020_2021</td>\n      <td>19</td>\n      <td>0-0</td>\n      <td>NaN</td>\n      <td>NaN</td>\n      <td>NaN</td>\n      <td>S. KITTEL [Hamburger] [SV]</td>\n      <td>save</td>\n      <td>...</td>\n      <td>NaN</td>\n      <td>NaN</td>\n      <td>NaN</td>\n      <td>NaN</td>\n      <td>NaN</td>\n      <td>NaN</td>\n      <td>NaN</td>\n      <td>NaN</td>\n      <td>NaN</td>\n      <td>NaN</td>\n    </tr>\n    <tr>\n      <th>...</th>\n      <td>...</td>\n      <td>...</td>\n      <td>...</td>\n      <td>...</td>\n      <td>...</td>\n      <td>...</td>\n      <td>...</td>\n      <td>...</td>\n      <td>...</td>\n      <td>...</td>\n      <td>...</td>\n      <td>...</td>\n      <td>...</td>\n      <td>...</td>\n      <td>...</td>\n      <td>...</td>\n      <td>...</td>\n      <td>...</td>\n      <td>...</td>\n      <td>...</td>\n      <td>...</td>\n    </tr>\n    <tr>\n      <th>1629972</th>\n      <td>151129</td>\n      <td>NaN</td>\n      <td>Colombia Primera A 2022 Апертура</td>\n      <td>80</td>\n      <td>0-0</td>\n      <td>L. VÁSQUEZ [Millonarios]</td>\n      <td>missing</td>\n      <td>0.027</td>\n      <td>NaN</td>\n      <td>NaN</td>\n      <td>...</td>\n      <td>NaN</td>\n      <td>NaN</td>\n      <td>NaN</td>\n      <td>NaN</td>\n      <td>NaN</td>\n      <td>NaN</td>\n      <td>NaN</td>\n      <td>NaN</td>\n      <td>NaN</td>\n      <td>NaN</td>\n    </tr>\n    <tr>\n      <th>1629973</th>\n      <td>151129</td>\n      <td>NaN</td>\n      <td>Colombia Primera A 2022 Апертура</td>\n      <td>81</td>\n      <td>0-0</td>\n      <td>D. HERAZO [Millonarios]</td>\n      <td>missing</td>\n      <td>0.452</td>\n      <td>NaN</td>\n      <td>NaN</td>\n      <td>...</td>\n      <td>NaN</td>\n      <td>NaN</td>\n      <td>NaN</td>\n      <td>NaN</td>\n      <td>NaN</td>\n      <td>NaN</td>\n      <td>NaN</td>\n      <td>NaN</td>\n      <td>NaN</td>\n      <td>NaN</td>\n    </tr>\n    <tr>\n      <th>1629974</th>\n      <td>151129</td>\n      <td>NaN</td>\n      <td>Colombia Primera A 2022 Апертура</td>\n      <td>86</td>\n      <td>0-0</td>\n      <td>NaN</td>\n      <td>NaN</td>\n      <td>NaN</td>\n      <td>M. BORJA [Atletico] [Junior]</td>\n      <td>missing</td>\n      <td>...</td>\n      <td>NaN</td>\n      <td>NaN</td>\n      <td>NaN</td>\n      <td>NaN</td>\n      <td>NaN</td>\n      <td>NaN</td>\n      <td>NaN</td>\n      <td>NaN</td>\n      <td>NaN</td>\n      <td>NaN</td>\n    </tr>\n    <tr>\n      <th>1629975</th>\n      <td>151129</td>\n      <td>NaN</td>\n      <td>Colombia Primera A 2022 Апертура</td>\n      <td>90+2</td>\n      <td>0-0</td>\n      <td>D. RUIZ [Millonarios]</td>\n      <td>blocked</td>\n      <td>0.019</td>\n      <td>NaN</td>\n      <td>NaN</td>\n      <td>...</td>\n      <td>NaN</td>\n      <td>NaN</td>\n      <td>NaN</td>\n      <td>NaN</td>\n      <td>NaN</td>\n      <td>NaN</td>\n      <td>NaN</td>\n      <td>NaN</td>\n      <td>NaN</td>\n      <td>NaN</td>\n    </tr>\n    <tr>\n      <th>1629976</th>\n      <td>151129</td>\n      <td>NaN</td>\n      <td>Colombia Primera A 2022 Апертура</td>\n      <td>90+2</td>\n      <td>0-0</td>\n      <td>R. CELIS [Millonarios]</td>\n      <td>goal</td>\n      <td>0.576</td>\n      <td>NaN</td>\n      <td>NaN</td>\n      <td>...</td>\n      <td>NaN</td>\n      <td>NaN</td>\n      <td>NaN</td>\n      <td>NaN</td>\n      <td>NaN</td>\n      <td>NaN</td>\n      <td>NaN</td>\n      <td>NaN</td>\n      <td>NaN</td>\n      <td>NaN</td>\n    </tr>\n  </tbody>\n</table>\n<p>1629977 rows × 27 columns</p>\n</div>"
     },
     "execution_count": 2,
     "metadata": {},
     "output_type": "execute_result"
    }
   ],
   "source": [
    "games_df"
   ],
   "metadata": {
    "collapsed": false,
    "pycharm": {
     "name": "#%%\n"
    }
   }
  },
  {
   "cell_type": "code",
   "execution_count": 2,
   "outputs": [],
   "source": [],
   "metadata": {
    "collapsed": false,
    "pycharm": {
     "name": "#%%\n"
    }
   }
  }
 ],
 "metadata": {
  "kernelspec": {
   "display_name": "Python 3",
   "language": "python",
   "name": "python3"
  },
  "language_info": {
   "codemirror_mode": {
    "name": "ipython",
    "version": 2
   },
   "file_extension": ".py",
   "mimetype": "text/x-python",
   "name": "python",
   "nbconvert_exporter": "python",
   "pygments_lexer": "ipython2",
   "version": "2.7.6"
  }
 },
 "nbformat": 4,
 "nbformat_minor": 0
}