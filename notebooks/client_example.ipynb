{
 "cells": [
  {
   "cell_type": "code",
   "execution_count": 1,
   "metadata": {
    "collapsed": true
   },
   "outputs": [],
   "source": [
    "from modules.client import OffVarianceClient\n",
    "from dotenv import dotenv_values\n",
    "\n",
    "config = dotenv_values('../.env')\n",
    "\n",
    "client = OffVarianceClient(config.get('OFF_VARIANCE_KEY'), data_path='../data')\n",
    "games_df = client.get_finished_events()"
   ]
  },
  {
   "cell_type": "code",
   "execution_count": 2,
   "outputs": [
    {
     "data": {
      "text/plain": "         ID_MATCH                 DATE                        TOURNAMENT  \\\n0           85804  13.08.2016 14:30:00  England Premier League 2016_2017   \n1           85804                  NaN  England Premier League 2016_2017   \n2           85804                  NaN  England Premier League 2016_2017   \n3           85804                  NaN  England Premier League 2016_2017   \n4           85804                  NaN  England Premier League 2016_2017   \n...           ...                  ...                               ...   \n1633220    132079                  NaN      Australia A-League 2021_2022   \n1633221    132079                  NaN      Australia A-League 2021_2022   \n1633222    132079                  NaN      Australia A-League 2021_2022   \n1633223    132079                  NaN      Australia A-League 2021_2022   \n1633224    132079                  NaN      Australia A-League 2021_2022   \n\n        MINUTE SCORE                                PLAYER_1 RESULT_1   XG_1  \\\n0            2   0-0                                     NaN      NaN    NaN   \n1            6   0-0              C. DAVIES [Derby] [County]  missing  0.045   \n2           11   0-0                                     NaN      NaN    NaN   \n3           19   0-0                                     NaN      NaN    NaN   \n4           22   0-0                                     NaN      NaN    NaN   \n...        ...   ...                                     ...      ...    ...   \n1633220     81   2-1  J. MCGARRY [Wellington] [Phoenix] [FC]  missing  0.006   \n1633221     82   2-1                                     NaN      NaN    NaN   \n1633222     83   2-1                                     NaN      NaN    NaN   \n1633223     83   2-1                                     NaN      NaN    NaN   \n1633224     86   2-1    B. WAINE [Wellington] [Phoenix] [FC]  nopenal  0.752   \n\n                                             PLAYER_2 RESULT_2  ...  O-WIN1  \\\n0                                   D. GRAY [Everton]  blocked  ...    3.41   \n1                                                 NaN      NaN  ...     NaN   \n2                                   D. GRAY [Everton]  missing  ...     NaN   \n3                       R. MAHREZ [Manchester] [City]  missing  ...     NaN   \n4                             D. DRINKWATER [Reading]  missing  ...     NaN   \n...                                               ...      ...  ...     ...   \n1633220                                           NaN      NaN  ...     NaN   \n1633221  O. BOZANIĆ [Central] [Coast] [Mariners] [FC]     save  ...     NaN   \n1633222    M. UREÑA [Central] [Coast] [Mariners] [FC]  blocked  ...     NaN   \n1633223    M. HATCH [Central] [Coast] [Mariners] [FC]  blocked  ...     NaN   \n1633224                                           NaN      NaN  ...     NaN   \n\n         O-DRAW  O-WIN2  O-TB25  O-TM25 C-WIN1 C-DRAW  C-WIN2  C-TB25  C-TM25  \n0          3.19    2.39    2.43     1.6   4.68    3.5    1.92    2.29    1.69  \n1           NaN     NaN     NaN     NaN    NaN    NaN     NaN     NaN     NaN  \n2           NaN     NaN     NaN     NaN    NaN    NaN     NaN     NaN     NaN  \n3           NaN     NaN     NaN     NaN    NaN    NaN     NaN     NaN     NaN  \n4           NaN     NaN     NaN     NaN    NaN    NaN     NaN     NaN     NaN  \n...         ...     ...     ...     ...    ...    ...     ...     ...     ...  \n1633220     NaN     NaN     NaN     NaN    NaN    NaN     NaN     NaN     NaN  \n1633221     NaN     NaN     NaN     NaN    NaN    NaN     NaN     NaN     NaN  \n1633222     NaN     NaN     NaN     NaN    NaN    NaN     NaN     NaN     NaN  \n1633223     NaN     NaN     NaN     NaN    NaN    NaN     NaN     NaN     NaN  \n1633224     NaN     NaN     NaN     NaN    NaN    NaN     NaN     NaN     NaN  \n\n[1633225 rows x 27 columns]",
      "text/html": "<div>\n<style scoped>\n    .dataframe tbody tr th:only-of-type {\n        vertical-align: middle;\n    }\n\n    .dataframe tbody tr th {\n        vertical-align: top;\n    }\n\n    .dataframe thead th {\n        text-align: right;\n    }\n</style>\n<table border=\"1\" class=\"dataframe\">\n  <thead>\n    <tr style=\"text-align: right;\">\n      <th></th>\n      <th>ID_MATCH</th>\n      <th>DATE</th>\n      <th>TOURNAMENT</th>\n      <th>MINUTE</th>\n      <th>SCORE</th>\n      <th>PLAYER_1</th>\n      <th>RESULT_1</th>\n      <th>XG_1</th>\n      <th>PLAYER_2</th>\n      <th>RESULT_2</th>\n      <th>...</th>\n      <th>O-WIN1</th>\n      <th>O-DRAW</th>\n      <th>O-WIN2</th>\n      <th>O-TB25</th>\n      <th>O-TM25</th>\n      <th>C-WIN1</th>\n      <th>C-DRAW</th>\n      <th>C-WIN2</th>\n      <th>C-TB25</th>\n      <th>C-TM25</th>\n    </tr>\n  </thead>\n  <tbody>\n    <tr>\n      <th>0</th>\n      <td>85804</td>\n      <td>13.08.2016 14:30:00</td>\n      <td>England Premier League 2016_2017</td>\n      <td>2</td>\n      <td>0-0</td>\n      <td>NaN</td>\n      <td>NaN</td>\n      <td>NaN</td>\n      <td>D. GRAY [Everton]</td>\n      <td>blocked</td>\n      <td>...</td>\n      <td>3.41</td>\n      <td>3.19</td>\n      <td>2.39</td>\n      <td>2.43</td>\n      <td>1.6</td>\n      <td>4.68</td>\n      <td>3.5</td>\n      <td>1.92</td>\n      <td>2.29</td>\n      <td>1.69</td>\n    </tr>\n    <tr>\n      <th>1</th>\n      <td>85804</td>\n      <td>NaN</td>\n      <td>England Premier League 2016_2017</td>\n      <td>6</td>\n      <td>0-0</td>\n      <td>C. DAVIES [Derby] [County]</td>\n      <td>missing</td>\n      <td>0.045</td>\n      <td>NaN</td>\n      <td>NaN</td>\n      <td>...</td>\n      <td>NaN</td>\n      <td>NaN</td>\n      <td>NaN</td>\n      <td>NaN</td>\n      <td>NaN</td>\n      <td>NaN</td>\n      <td>NaN</td>\n      <td>NaN</td>\n      <td>NaN</td>\n      <td>NaN</td>\n    </tr>\n    <tr>\n      <th>2</th>\n      <td>85804</td>\n      <td>NaN</td>\n      <td>England Premier League 2016_2017</td>\n      <td>11</td>\n      <td>0-0</td>\n      <td>NaN</td>\n      <td>NaN</td>\n      <td>NaN</td>\n      <td>D. GRAY [Everton]</td>\n      <td>missing</td>\n      <td>...</td>\n      <td>NaN</td>\n      <td>NaN</td>\n      <td>NaN</td>\n      <td>NaN</td>\n      <td>NaN</td>\n      <td>NaN</td>\n      <td>NaN</td>\n      <td>NaN</td>\n      <td>NaN</td>\n      <td>NaN</td>\n    </tr>\n    <tr>\n      <th>3</th>\n      <td>85804</td>\n      <td>NaN</td>\n      <td>England Premier League 2016_2017</td>\n      <td>19</td>\n      <td>0-0</td>\n      <td>NaN</td>\n      <td>NaN</td>\n      <td>NaN</td>\n      <td>R. MAHREZ [Manchester] [City]</td>\n      <td>missing</td>\n      <td>...</td>\n      <td>NaN</td>\n      <td>NaN</td>\n      <td>NaN</td>\n      <td>NaN</td>\n      <td>NaN</td>\n      <td>NaN</td>\n      <td>NaN</td>\n      <td>NaN</td>\n      <td>NaN</td>\n      <td>NaN</td>\n    </tr>\n    <tr>\n      <th>4</th>\n      <td>85804</td>\n      <td>NaN</td>\n      <td>England Premier League 2016_2017</td>\n      <td>22</td>\n      <td>0-0</td>\n      <td>NaN</td>\n      <td>NaN</td>\n      <td>NaN</td>\n      <td>D. DRINKWATER [Reading]</td>\n      <td>missing</td>\n      <td>...</td>\n      <td>NaN</td>\n      <td>NaN</td>\n      <td>NaN</td>\n      <td>NaN</td>\n      <td>NaN</td>\n      <td>NaN</td>\n      <td>NaN</td>\n      <td>NaN</td>\n      <td>NaN</td>\n      <td>NaN</td>\n    </tr>\n    <tr>\n      <th>...</th>\n      <td>...</td>\n      <td>...</td>\n      <td>...</td>\n      <td>...</td>\n      <td>...</td>\n      <td>...</td>\n      <td>...</td>\n      <td>...</td>\n      <td>...</td>\n      <td>...</td>\n      <td>...</td>\n      <td>...</td>\n      <td>...</td>\n      <td>...</td>\n      <td>...</td>\n      <td>...</td>\n      <td>...</td>\n      <td>...</td>\n      <td>...</td>\n      <td>...</td>\n      <td>...</td>\n    </tr>\n    <tr>\n      <th>1633220</th>\n      <td>132079</td>\n      <td>NaN</td>\n      <td>Australia A-League 2021_2022</td>\n      <td>81</td>\n      <td>2-1</td>\n      <td>J. MCGARRY [Wellington] [Phoenix] [FC]</td>\n      <td>missing</td>\n      <td>0.006</td>\n      <td>NaN</td>\n      <td>NaN</td>\n      <td>...</td>\n      <td>NaN</td>\n      <td>NaN</td>\n      <td>NaN</td>\n      <td>NaN</td>\n      <td>NaN</td>\n      <td>NaN</td>\n      <td>NaN</td>\n      <td>NaN</td>\n      <td>NaN</td>\n      <td>NaN</td>\n    </tr>\n    <tr>\n      <th>1633221</th>\n      <td>132079</td>\n      <td>NaN</td>\n      <td>Australia A-League 2021_2022</td>\n      <td>82</td>\n      <td>2-1</td>\n      <td>NaN</td>\n      <td>NaN</td>\n      <td>NaN</td>\n      <td>O. BOZANIĆ [Central] [Coast] [Mariners] [FC]</td>\n      <td>save</td>\n      <td>...</td>\n      <td>NaN</td>\n      <td>NaN</td>\n      <td>NaN</td>\n      <td>NaN</td>\n      <td>NaN</td>\n      <td>NaN</td>\n      <td>NaN</td>\n      <td>NaN</td>\n      <td>NaN</td>\n      <td>NaN</td>\n    </tr>\n    <tr>\n      <th>1633222</th>\n      <td>132079</td>\n      <td>NaN</td>\n      <td>Australia A-League 2021_2022</td>\n      <td>83</td>\n      <td>2-1</td>\n      <td>NaN</td>\n      <td>NaN</td>\n      <td>NaN</td>\n      <td>M. UREÑA [Central] [Coast] [Mariners] [FC]</td>\n      <td>blocked</td>\n      <td>...</td>\n      <td>NaN</td>\n      <td>NaN</td>\n      <td>NaN</td>\n      <td>NaN</td>\n      <td>NaN</td>\n      <td>NaN</td>\n      <td>NaN</td>\n      <td>NaN</td>\n      <td>NaN</td>\n      <td>NaN</td>\n    </tr>\n    <tr>\n      <th>1633223</th>\n      <td>132079</td>\n      <td>NaN</td>\n      <td>Australia A-League 2021_2022</td>\n      <td>83</td>\n      <td>2-1</td>\n      <td>NaN</td>\n      <td>NaN</td>\n      <td>NaN</td>\n      <td>M. HATCH [Central] [Coast] [Mariners] [FC]</td>\n      <td>blocked</td>\n      <td>...</td>\n      <td>NaN</td>\n      <td>NaN</td>\n      <td>NaN</td>\n      <td>NaN</td>\n      <td>NaN</td>\n      <td>NaN</td>\n      <td>NaN</td>\n      <td>NaN</td>\n      <td>NaN</td>\n      <td>NaN</td>\n    </tr>\n    <tr>\n      <th>1633224</th>\n      <td>132079</td>\n      <td>NaN</td>\n      <td>Australia A-League 2021_2022</td>\n      <td>86</td>\n      <td>2-1</td>\n      <td>B. WAINE [Wellington] [Phoenix] [FC]</td>\n      <td>nopenal</td>\n      <td>0.752</td>\n      <td>NaN</td>\n      <td>NaN</td>\n      <td>...</td>\n      <td>NaN</td>\n      <td>NaN</td>\n      <td>NaN</td>\n      <td>NaN</td>\n      <td>NaN</td>\n      <td>NaN</td>\n      <td>NaN</td>\n      <td>NaN</td>\n      <td>NaN</td>\n      <td>NaN</td>\n    </tr>\n  </tbody>\n</table>\n<p>1633225 rows × 27 columns</p>\n</div>"
     },
     "execution_count": 2,
     "metadata": {},
     "output_type": "execute_result"
    }
   ],
   "source": [
    "games_df"
   ],
   "metadata": {
    "collapsed": false,
    "pycharm": {
     "name": "#%%\n"
    }
   }
  },
  {
   "cell_type": "code",
   "execution_count": 2,
   "outputs": [],
   "source": [],
   "metadata": {
    "collapsed": false,
    "pycharm": {
     "name": "#%%\n"
    }
   }
  }
 ],
 "metadata": {
  "kernelspec": {
   "display_name": "Python 3",
   "language": "python",
   "name": "python3"
  },
  "language_info": {
   "codemirror_mode": {
    "name": "ipython",
    "version": 2
   },
   "file_extension": ".py",
   "mimetype": "text/x-python",
   "name": "python",
   "nbconvert_exporter": "python",
   "pygments_lexer": "ipython2",
   "version": "2.7.6"
  }
 },
 "nbformat": 4,
 "nbformat_minor": 0
}