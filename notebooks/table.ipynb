{
 "cells": [
  {
   "cell_type": "code",
   "execution_count": 14,
   "metadata": {
    "collapsed": true
   },
   "outputs": [],
   "source": [
    "import pandas as pd\n",
    "import seaborn as sns\n",
    "import matplotlib.pyplot as plt\n",
    "import numpy as np\n",
    "from datetime import datetime\n",
    "from datetime import datetime as DT\n",
    "import os\n",
    "import modules.utils as utils"
   ]
  },
  {
   "cell_type": "code",
   "execution_count": 15,
   "outputs": [],
   "source": [
    "xg_base = pd.read_excel('/Users/VivoBook/table/2Germany.xlsx')\n",
    "xg_base = xg_base.rename(columns={'xG дом': 'xg_home', 'xG выезд': 'xg_away', 'Исход дом': 'type_home', 'Исход выезд': 'type_away'})\n",
    "xg_base = xg_base.rename(columns={'Минута': 'minutes', 'Текущий счет дом': 'current_score_home', 'Текущий счет выезд': 'current_score_away', 'Дата матча': 'date', 'Дом': 'home', 'Выезд': 'away', 'Финальный счет дом': 'final_score_home', 'Финальный счет выезд': 'final_score_away', 'id': 'id_offvariance', 'О. - П1': 'open_home', 'О. - Н': 'open_draw', 'О. - П2': 'open_away', 'О. - ТБ 2.5': 'open_over_2_5', 'О. - ТМ 2.5': 'open_under_2_5', 'З. - П1': 'close_home', 'З. - Н': 'close_draw', 'З. - П2': 'close_away', 'З.  - ТБ 2.5': 'close_over_2_5', 'З.  - ТМ 2.5': 'close_under_2_5'})"
   ],
   "metadata": {
    "collapsed": false,
    "pycharm": {
     "name": "#%%\n"
    }
   }
  },
  {
   "cell_type": "code",
   "execution_count": 16,
   "outputs": [],
   "source": [
    "# Удаляем лишние столбцы\n",
    "xg_base = xg_base.drop(['minutes', 'Игрок дом', 'Игрок выезд', 'current_score_home', 'current_score_away'], axis=1)"
   ],
   "metadata": {
    "collapsed": false,
    "pycharm": {
     "name": "#%%\n"
    }
   }
  },
  {
   "cell_type": "code",
   "execution_count": 17,
   "outputs": [],
   "source": [
    "# группируем по id\n",
    "xg_base_matches = xg_base.groupby('id_offvariance',as_index=False) \\\n",
    "        .first()\n",
    "# отрезаем время в колонке date\n",
    "xg_base_matches['date'] = xg_base_matches.date.apply(lambda x: x.split(' ')[0])\n",
    "# переводим колонку во временной тип и сортируем\n",
    "xg_base_matches['date'] = pd.to_datetime(xg_base_matches['date'], dayfirst=True)\n",
    "xg_base_matches = xg_base_matches.sort_values('date', ignore_index=True)\n",
    "xg_base_matches = xg_base_matches.drop(['type_home', 'xg_home', 'type_away', 'xg_away'], axis=1)\n",
    "xg_base_matches = xg_base_matches.reindex(columns=['id_offvariance', 'date', 'id_tournament', 'home', 'away', 'final_score_home', 'final_score_away', 'open_home', 'open_draw', 'open_away', 'open_over_2_5', 'open_under_2_5', 'close_home', 'close_draw', 'close_away', 'close_over_2_5', 'close_under_2_5'])"
   ],
   "metadata": {
    "collapsed": false,
    "pycharm": {
     "name": "#%%\n"
    }
   }
  },
  {
   "cell_type": "code",
   "execution_count": 18,
   "outputs": [],
   "source": [
    "# Отбираем базу ударов без пенальти для домашней и гостевой команды\n",
    "xg_base_no_penalty = xg_base.query('type_home != \"Пенальти забил\" and type_home != \"Пенальти не забил\" and type_away != \"Пенальти забил\" and type_away != \"Пенальти не забил\"')"
   ],
   "metadata": {
    "collapsed": false,
    "pycharm": {
     "name": "#%%\n"
    }
   }
  },
  {
   "cell_type": "code",
   "execution_count": 19,
   "outputs": [
    {
     "ename": "KeyboardInterrupt",
     "evalue": "",
     "output_type": "error",
     "traceback": [
      "\u001B[1;31m---------------------------------------------------------------------------\u001B[0m",
      "\u001B[1;31mFileNotFoundError\u001B[0m                         Traceback (most recent call last)",
      "File \u001B[1;32m~\\AppData\\Local\\Programs\\Python\\Python39\\lib\\genericpath.py:19\u001B[0m, in \u001B[0;36mexists\u001B[1;34m(path)\u001B[0m\n\u001B[0;32m     18\u001B[0m \u001B[38;5;28;01mtry\u001B[39;00m:\n\u001B[1;32m---> 19\u001B[0m     \u001B[43mos\u001B[49m\u001B[38;5;241;43m.\u001B[39;49m\u001B[43mstat\u001B[49m\u001B[43m(\u001B[49m\u001B[43mpath\u001B[49m\u001B[43m)\u001B[49m\n\u001B[0;32m     20\u001B[0m \u001B[38;5;28;01mexcept\u001B[39;00m (\u001B[38;5;167;01mOSError\u001B[39;00m, \u001B[38;5;167;01mValueError\u001B[39;00m):\n",
      "\u001B[1;31mFileNotFoundError\u001B[0m: [WinError 3] Системе не удается найти указанный путь: 'C:\\\\Users\\\\VivoBook\\\\AppData\\\\Local\\\\Temp\\\\ipykernel_10472\\\\2294417777.py'",
      "\nDuring handling of the above exception, another exception occurred:\n",
      "\u001B[1;31mKeyboardInterrupt\u001B[0m                         Traceback (most recent call last)",
      "Input \u001B[1;32mIn [19]\u001B[0m, in \u001B[0;36m<cell line: 28>\u001B[1;34m()\u001B[0m\n\u001B[0;32m     43\u001B[0m shots_away_0_0_1\u001B[38;5;241m.\u001B[39mappend(xg_base_no_penalty\u001B[38;5;241m.\u001B[39mquery(\u001B[38;5;124m'\u001B[39m\u001B[38;5;124mid_offvariance == @xg_base_matches.id_offvariance[@index] and 0 < xg_away < 0.1\u001B[39m\u001B[38;5;124m'\u001B[39m)\u001B[38;5;241m.\u001B[39mshape[\u001B[38;5;241m0\u001B[39m])\n\u001B[0;32m     44\u001B[0m shots_away_0_1_0_2\u001B[38;5;241m.\u001B[39mappend(xg_base_no_penalty\u001B[38;5;241m.\u001B[39mquery(\u001B[38;5;124m'\u001B[39m\u001B[38;5;124mid_offvariance == @xg_base_matches.id_offvariance[@index] and 0.1 <= xg_away < 0.2\u001B[39m\u001B[38;5;124m'\u001B[39m)\u001B[38;5;241m.\u001B[39mshape[\u001B[38;5;241m0\u001B[39m])\n\u001B[1;32m---> 45\u001B[0m shots_away_0_2_0_3\u001B[38;5;241m.\u001B[39mappend(\u001B[43mxg_base_no_penalty\u001B[49m\u001B[38;5;241;43m.\u001B[39;49m\u001B[43mquery\u001B[49m\u001B[43m(\u001B[49m\u001B[38;5;124;43m'\u001B[39;49m\u001B[38;5;124;43mid_offvariance == @xg_base_matches.id_offvariance[@index] and 0.2 <= xg_away < 0.3\u001B[39;49m\u001B[38;5;124;43m'\u001B[39;49m\u001B[43m)\u001B[49m\u001B[38;5;241m.\u001B[39mshape[\u001B[38;5;241m0\u001B[39m])\n\u001B[0;32m     46\u001B[0m shots_away_0_3_0_4\u001B[38;5;241m.\u001B[39mappend(xg_base_no_penalty\u001B[38;5;241m.\u001B[39mquery(\u001B[38;5;124m'\u001B[39m\u001B[38;5;124mid_offvariance == @xg_base_matches.id_offvariance[@index] and 0.3 <= xg_away < 0.4\u001B[39m\u001B[38;5;124m'\u001B[39m)\u001B[38;5;241m.\u001B[39mshape[\u001B[38;5;241m0\u001B[39m])\n\u001B[0;32m     47\u001B[0m shots_away_0_4_0_5\u001B[38;5;241m.\u001B[39mappend(xg_base_no_penalty\u001B[38;5;241m.\u001B[39mquery(\u001B[38;5;124m'\u001B[39m\u001B[38;5;124mid_offvariance == @xg_base_matches.id_offvariance[@index] and 0.4 <= xg_away < 0.5\u001B[39m\u001B[38;5;124m'\u001B[39m)\u001B[38;5;241m.\u001B[39mshape[\u001B[38;5;241m0\u001B[39m])\n",
      "File \u001B[1;32mc:\\users\\vivobook\\pycharmprojects\\pythonproject3\\venv\\lib\\site-packages\\pandas\\core\\frame.py:4105\u001B[0m, in \u001B[0;36mDataFrame.query\u001B[1;34m(self, expr, inplace, **kwargs)\u001B[0m\n\u001B[0;32m   4103\u001B[0m kwargs[\u001B[38;5;124m\"\u001B[39m\u001B[38;5;124mlevel\u001B[39m\u001B[38;5;124m\"\u001B[39m] \u001B[38;5;241m=\u001B[39m kwargs\u001B[38;5;241m.\u001B[39mpop(\u001B[38;5;124m\"\u001B[39m\u001B[38;5;124mlevel\u001B[39m\u001B[38;5;124m\"\u001B[39m, \u001B[38;5;241m0\u001B[39m) \u001B[38;5;241m+\u001B[39m \u001B[38;5;241m1\u001B[39m\n\u001B[0;32m   4104\u001B[0m kwargs[\u001B[38;5;124m\"\u001B[39m\u001B[38;5;124mtarget\u001B[39m\u001B[38;5;124m\"\u001B[39m] \u001B[38;5;241m=\u001B[39m \u001B[38;5;28;01mNone\u001B[39;00m\n\u001B[1;32m-> 4105\u001B[0m res \u001B[38;5;241m=\u001B[39m \u001B[38;5;28mself\u001B[39m\u001B[38;5;241m.\u001B[39meval(expr, \u001B[38;5;241m*\u001B[39m\u001B[38;5;241m*\u001B[39mkwargs)\n\u001B[0;32m   4107\u001B[0m \u001B[38;5;28;01mtry\u001B[39;00m:\n\u001B[0;32m   4108\u001B[0m     result \u001B[38;5;241m=\u001B[39m \u001B[38;5;28mself\u001B[39m\u001B[38;5;241m.\u001B[39mloc[res]\n",
      "File \u001B[1;32mc:\\users\\vivobook\\pycharmprojects\\pythonproject3\\venv\\lib\\site-packages\\pandas\\core\\frame.py:4234\u001B[0m, in \u001B[0;36mDataFrame.eval\u001B[1;34m(self, expr, inplace, **kwargs)\u001B[0m\n\u001B[0;32m   4231\u001B[0m     kwargs[\u001B[38;5;124m\"\u001B[39m\u001B[38;5;124mtarget\u001B[39m\u001B[38;5;124m\"\u001B[39m] \u001B[38;5;241m=\u001B[39m \u001B[38;5;28mself\u001B[39m\n\u001B[0;32m   4232\u001B[0m kwargs[\u001B[38;5;124m\"\u001B[39m\u001B[38;5;124mresolvers\u001B[39m\u001B[38;5;124m\"\u001B[39m] \u001B[38;5;241m=\u001B[39m \u001B[38;5;28mtuple\u001B[39m(kwargs\u001B[38;5;241m.\u001B[39mget(\u001B[38;5;124m\"\u001B[39m\u001B[38;5;124mresolvers\u001B[39m\u001B[38;5;124m\"\u001B[39m, ())) \u001B[38;5;241m+\u001B[39m resolvers\n\u001B[1;32m-> 4234\u001B[0m \u001B[38;5;28;01mreturn\u001B[39;00m _eval(expr, inplace\u001B[38;5;241m=\u001B[39minplace, \u001B[38;5;241m*\u001B[39m\u001B[38;5;241m*\u001B[39mkwargs)\n",
      "File \u001B[1;32mc:\\users\\vivobook\\pycharmprojects\\pythonproject3\\venv\\lib\\site-packages\\pandas\\core\\computation\\eval.py:350\u001B[0m, in \u001B[0;36meval\u001B[1;34m(expr, parser, engine, truediv, local_dict, global_dict, resolvers, level, target, inplace)\u001B[0m\n\u001B[0;32m    341\u001B[0m \u001B[38;5;66;03m# get our (possibly passed-in) scope\u001B[39;00m\n\u001B[0;32m    342\u001B[0m env \u001B[38;5;241m=\u001B[39m ensure_scope(\n\u001B[0;32m    343\u001B[0m     level \u001B[38;5;241m+\u001B[39m \u001B[38;5;241m1\u001B[39m,\n\u001B[0;32m    344\u001B[0m     global_dict\u001B[38;5;241m=\u001B[39mglobal_dict,\n\u001B[1;32m   (...)\u001B[0m\n\u001B[0;32m    347\u001B[0m     target\u001B[38;5;241m=\u001B[39mtarget,\n\u001B[0;32m    348\u001B[0m )\n\u001B[1;32m--> 350\u001B[0m parsed_expr \u001B[38;5;241m=\u001B[39m \u001B[43mExpr\u001B[49m\u001B[43m(\u001B[49m\u001B[43mexpr\u001B[49m\u001B[43m,\u001B[49m\u001B[43m \u001B[49m\u001B[43mengine\u001B[49m\u001B[38;5;241;43m=\u001B[39;49m\u001B[43mengine\u001B[49m\u001B[43m,\u001B[49m\u001B[43m \u001B[49m\u001B[43mparser\u001B[49m\u001B[38;5;241;43m=\u001B[39;49m\u001B[43mparser\u001B[49m\u001B[43m,\u001B[49m\u001B[43m \u001B[49m\u001B[43menv\u001B[49m\u001B[38;5;241;43m=\u001B[39;49m\u001B[43menv\u001B[49m\u001B[43m)\u001B[49m\n\u001B[0;32m    352\u001B[0m \u001B[38;5;66;03m# construct the engine and evaluate the parsed expression\u001B[39;00m\n\u001B[0;32m    353\u001B[0m eng \u001B[38;5;241m=\u001B[39m ENGINES[engine]\n",
      "File \u001B[1;32mc:\\users\\vivobook\\pycharmprojects\\pythonproject3\\venv\\lib\\site-packages\\pandas\\core\\computation\\expr.py:811\u001B[0m, in \u001B[0;36mExpr.__init__\u001B[1;34m(self, expr, engine, parser, env, level)\u001B[0m\n\u001B[0;32m    809\u001B[0m \u001B[38;5;28mself\u001B[39m\u001B[38;5;241m.\u001B[39mparser \u001B[38;5;241m=\u001B[39m parser\n\u001B[0;32m    810\u001B[0m \u001B[38;5;28mself\u001B[39m\u001B[38;5;241m.\u001B[39m_visitor \u001B[38;5;241m=\u001B[39m PARSERS[parser](\u001B[38;5;28mself\u001B[39m\u001B[38;5;241m.\u001B[39menv, \u001B[38;5;28mself\u001B[39m\u001B[38;5;241m.\u001B[39mengine, \u001B[38;5;28mself\u001B[39m\u001B[38;5;241m.\u001B[39mparser)\n\u001B[1;32m--> 811\u001B[0m \u001B[38;5;28mself\u001B[39m\u001B[38;5;241m.\u001B[39mterms \u001B[38;5;241m=\u001B[39m \u001B[38;5;28;43mself\u001B[39;49m\u001B[38;5;241;43m.\u001B[39;49m\u001B[43mparse\u001B[49m\u001B[43m(\u001B[49m\u001B[43m)\u001B[49m\n",
      "File \u001B[1;32mc:\\users\\vivobook\\pycharmprojects\\pythonproject3\\venv\\lib\\site-packages\\pandas\\core\\computation\\expr.py:830\u001B[0m, in \u001B[0;36mExpr.parse\u001B[1;34m(self)\u001B[0m\n\u001B[0;32m    826\u001B[0m \u001B[38;5;28;01mdef\u001B[39;00m \u001B[38;5;21mparse\u001B[39m(\u001B[38;5;28mself\u001B[39m):\n\u001B[0;32m    827\u001B[0m     \u001B[38;5;124;03m\"\"\"\u001B[39;00m\n\u001B[0;32m    828\u001B[0m \u001B[38;5;124;03m    Parse an expression.\u001B[39;00m\n\u001B[0;32m    829\u001B[0m \u001B[38;5;124;03m    \"\"\"\u001B[39;00m\n\u001B[1;32m--> 830\u001B[0m     \u001B[38;5;28;01mreturn\u001B[39;00m \u001B[38;5;28;43mself\u001B[39;49m\u001B[38;5;241;43m.\u001B[39;49m\u001B[43m_visitor\u001B[49m\u001B[38;5;241;43m.\u001B[39;49m\u001B[43mvisit\u001B[49m\u001B[43m(\u001B[49m\u001B[38;5;28;43mself\u001B[39;49m\u001B[38;5;241;43m.\u001B[39;49m\u001B[43mexpr\u001B[49m\u001B[43m)\u001B[49m\n",
      "File \u001B[1;32mc:\\users\\vivobook\\pycharmprojects\\pythonproject3\\venv\\lib\\site-packages\\pandas\\core\\computation\\expr.py:415\u001B[0m, in \u001B[0;36mBaseExprVisitor.visit\u001B[1;34m(self, node, **kwargs)\u001B[0m\n\u001B[0;32m    413\u001B[0m method \u001B[38;5;241m=\u001B[39m \u001B[38;5;124m\"\u001B[39m\u001B[38;5;124mvisit_\u001B[39m\u001B[38;5;124m\"\u001B[39m \u001B[38;5;241m+\u001B[39m \u001B[38;5;28mtype\u001B[39m(node)\u001B[38;5;241m.\u001B[39m\u001B[38;5;18m__name__\u001B[39m\n\u001B[0;32m    414\u001B[0m visitor \u001B[38;5;241m=\u001B[39m \u001B[38;5;28mgetattr\u001B[39m(\u001B[38;5;28mself\u001B[39m, method)\n\u001B[1;32m--> 415\u001B[0m \u001B[38;5;28;01mreturn\u001B[39;00m visitor(node, \u001B[38;5;241m*\u001B[39m\u001B[38;5;241m*\u001B[39mkwargs)\n",
      "File \u001B[1;32mc:\\users\\vivobook\\pycharmprojects\\pythonproject3\\venv\\lib\\site-packages\\pandas\\core\\computation\\expr.py:421\u001B[0m, in \u001B[0;36mBaseExprVisitor.visit_Module\u001B[1;34m(self, node, **kwargs)\u001B[0m\n\u001B[0;32m    419\u001B[0m     \u001B[38;5;28;01mraise\u001B[39;00m \u001B[38;5;167;01mSyntaxError\u001B[39;00m(\u001B[38;5;124m\"\u001B[39m\u001B[38;5;124monly a single expression is allowed\u001B[39m\u001B[38;5;124m\"\u001B[39m)\n\u001B[0;32m    420\u001B[0m expr \u001B[38;5;241m=\u001B[39m node\u001B[38;5;241m.\u001B[39mbody[\u001B[38;5;241m0\u001B[39m]\n\u001B[1;32m--> 421\u001B[0m \u001B[38;5;28;01mreturn\u001B[39;00m \u001B[38;5;28mself\u001B[39m\u001B[38;5;241m.\u001B[39mvisit(expr, \u001B[38;5;241m*\u001B[39m\u001B[38;5;241m*\u001B[39mkwargs)\n",
      "File \u001B[1;32mc:\\users\\vivobook\\pycharmprojects\\pythonproject3\\venv\\lib\\site-packages\\pandas\\core\\computation\\expr.py:415\u001B[0m, in \u001B[0;36mBaseExprVisitor.visit\u001B[1;34m(self, node, **kwargs)\u001B[0m\n\u001B[0;32m    413\u001B[0m method \u001B[38;5;241m=\u001B[39m \u001B[38;5;124m\"\u001B[39m\u001B[38;5;124mvisit_\u001B[39m\u001B[38;5;124m\"\u001B[39m \u001B[38;5;241m+\u001B[39m \u001B[38;5;28mtype\u001B[39m(node)\u001B[38;5;241m.\u001B[39m\u001B[38;5;18m__name__\u001B[39m\n\u001B[0;32m    414\u001B[0m visitor \u001B[38;5;241m=\u001B[39m \u001B[38;5;28mgetattr\u001B[39m(\u001B[38;5;28mself\u001B[39m, method)\n\u001B[1;32m--> 415\u001B[0m \u001B[38;5;28;01mreturn\u001B[39;00m visitor(node, \u001B[38;5;241m*\u001B[39m\u001B[38;5;241m*\u001B[39mkwargs)\n",
      "File \u001B[1;32mc:\\users\\vivobook\\pycharmprojects\\pythonproject3\\venv\\lib\\site-packages\\pandas\\core\\computation\\expr.py:424\u001B[0m, in \u001B[0;36mBaseExprVisitor.visit_Expr\u001B[1;34m(self, node, **kwargs)\u001B[0m\n\u001B[0;32m    423\u001B[0m \u001B[38;5;28;01mdef\u001B[39;00m \u001B[38;5;21mvisit_Expr\u001B[39m(\u001B[38;5;28mself\u001B[39m, node, \u001B[38;5;241m*\u001B[39m\u001B[38;5;241m*\u001B[39mkwargs):\n\u001B[1;32m--> 424\u001B[0m     \u001B[38;5;28;01mreturn\u001B[39;00m \u001B[38;5;28mself\u001B[39m\u001B[38;5;241m.\u001B[39mvisit(node\u001B[38;5;241m.\u001B[39mvalue, \u001B[38;5;241m*\u001B[39m\u001B[38;5;241m*\u001B[39mkwargs)\n",
      "File \u001B[1;32mc:\\users\\vivobook\\pycharmprojects\\pythonproject3\\venv\\lib\\site-packages\\pandas\\core\\computation\\expr.py:415\u001B[0m, in \u001B[0;36mBaseExprVisitor.visit\u001B[1;34m(self, node, **kwargs)\u001B[0m\n\u001B[0;32m    413\u001B[0m method \u001B[38;5;241m=\u001B[39m \u001B[38;5;124m\"\u001B[39m\u001B[38;5;124mvisit_\u001B[39m\u001B[38;5;124m\"\u001B[39m \u001B[38;5;241m+\u001B[39m \u001B[38;5;28mtype\u001B[39m(node)\u001B[38;5;241m.\u001B[39m\u001B[38;5;18m__name__\u001B[39m\n\u001B[0;32m    414\u001B[0m visitor \u001B[38;5;241m=\u001B[39m \u001B[38;5;28mgetattr\u001B[39m(\u001B[38;5;28mself\u001B[39m, method)\n\u001B[1;32m--> 415\u001B[0m \u001B[38;5;28;01mreturn\u001B[39;00m visitor(node, \u001B[38;5;241m*\u001B[39m\u001B[38;5;241m*\u001B[39mkwargs)\n",
      "File \u001B[1;32mc:\\users\\vivobook\\pycharmprojects\\pythonproject3\\venv\\lib\\site-packages\\pandas\\core\\computation\\expr.py:750\u001B[0m, in \u001B[0;36mBaseExprVisitor.visit_BoolOp\u001B[1;34m(self, node, **kwargs)\u001B[0m\n\u001B[0;32m    747\u001B[0m     \u001B[38;5;28;01mreturn\u001B[39;00m \u001B[38;5;28mself\u001B[39m\u001B[38;5;241m.\u001B[39m_maybe_evaluate_binop(op, node\u001B[38;5;241m.\u001B[39mop, lhs, rhs)\n\u001B[0;32m    749\u001B[0m operands \u001B[38;5;241m=\u001B[39m node\u001B[38;5;241m.\u001B[39mvalues\n\u001B[1;32m--> 750\u001B[0m \u001B[38;5;28;01mreturn\u001B[39;00m \u001B[43mreduce\u001B[49m\u001B[43m(\u001B[49m\u001B[43mvisitor\u001B[49m\u001B[43m,\u001B[49m\u001B[43m \u001B[49m\u001B[43moperands\u001B[49m\u001B[43m)\u001B[49m\n",
      "File \u001B[1;32mc:\\users\\vivobook\\pycharmprojects\\pythonproject3\\venv\\lib\\site-packages\\pandas\\core\\computation\\expr.py:743\u001B[0m, in \u001B[0;36mBaseExprVisitor.visit_BoolOp.<locals>.visitor\u001B[1;34m(x, y)\u001B[0m\n\u001B[0;32m    742\u001B[0m \u001B[38;5;28;01mdef\u001B[39;00m \u001B[38;5;21mvisitor\u001B[39m(x, y):\n\u001B[1;32m--> 743\u001B[0m     lhs \u001B[38;5;241m=\u001B[39m \u001B[38;5;28;43mself\u001B[39;49m\u001B[38;5;241;43m.\u001B[39;49m\u001B[43m_try_visit_binop\u001B[49m\u001B[43m(\u001B[49m\u001B[43mx\u001B[49m\u001B[43m)\u001B[49m\n\u001B[0;32m    744\u001B[0m     rhs \u001B[38;5;241m=\u001B[39m \u001B[38;5;28mself\u001B[39m\u001B[38;5;241m.\u001B[39m_try_visit_binop(y)\n\u001B[0;32m    746\u001B[0m     op, op_class, lhs, rhs \u001B[38;5;241m=\u001B[39m \u001B[38;5;28mself\u001B[39m\u001B[38;5;241m.\u001B[39m_maybe_transform_eq_ne(node, lhs, rhs)\n",
      "File \u001B[1;32mc:\\users\\vivobook\\pycharmprojects\\pythonproject3\\venv\\lib\\site-packages\\pandas\\core\\computation\\expr.py:739\u001B[0m, in \u001B[0;36mBaseExprVisitor._try_visit_binop\u001B[1;34m(self, bop)\u001B[0m\n\u001B[0;32m    737\u001B[0m \u001B[38;5;28;01mif\u001B[39;00m \u001B[38;5;28misinstance\u001B[39m(bop, (Op, Term)):\n\u001B[0;32m    738\u001B[0m     \u001B[38;5;28;01mreturn\u001B[39;00m bop\n\u001B[1;32m--> 739\u001B[0m \u001B[38;5;28;01mreturn\u001B[39;00m \u001B[38;5;28;43mself\u001B[39;49m\u001B[38;5;241;43m.\u001B[39;49m\u001B[43mvisit\u001B[49m\u001B[43m(\u001B[49m\u001B[43mbop\u001B[49m\u001B[43m)\u001B[49m\n",
      "File \u001B[1;32mc:\\users\\vivobook\\pycharmprojects\\pythonproject3\\venv\\lib\\site-packages\\pandas\\core\\computation\\expr.py:415\u001B[0m, in \u001B[0;36mBaseExprVisitor.visit\u001B[1;34m(self, node, **kwargs)\u001B[0m\n\u001B[0;32m    413\u001B[0m method \u001B[38;5;241m=\u001B[39m \u001B[38;5;124m\"\u001B[39m\u001B[38;5;124mvisit_\u001B[39m\u001B[38;5;124m\"\u001B[39m \u001B[38;5;241m+\u001B[39m \u001B[38;5;28mtype\u001B[39m(node)\u001B[38;5;241m.\u001B[39m\u001B[38;5;18m__name__\u001B[39m\n\u001B[0;32m    414\u001B[0m visitor \u001B[38;5;241m=\u001B[39m \u001B[38;5;28mgetattr\u001B[39m(\u001B[38;5;28mself\u001B[39m, method)\n\u001B[1;32m--> 415\u001B[0m \u001B[38;5;28;01mreturn\u001B[39;00m visitor(node, \u001B[38;5;241m*\u001B[39m\u001B[38;5;241m*\u001B[39mkwargs)\n",
      "File \u001B[1;32mc:\\users\\vivobook\\pycharmprojects\\pythonproject3\\venv\\lib\\site-packages\\pandas\\core\\computation\\expr.py:723\u001B[0m, in \u001B[0;36mBaseExprVisitor.visit_Compare\u001B[1;34m(self, node, **kwargs)\u001B[0m\n\u001B[0;32m    721\u001B[0m     op \u001B[38;5;241m=\u001B[39m \u001B[38;5;28mself\u001B[39m\u001B[38;5;241m.\u001B[39mtranslate_In(ops[\u001B[38;5;241m0\u001B[39m])\n\u001B[0;32m    722\u001B[0m     binop \u001B[38;5;241m=\u001B[39m ast\u001B[38;5;241m.\u001B[39mBinOp(op\u001B[38;5;241m=\u001B[39mop, left\u001B[38;5;241m=\u001B[39mnode\u001B[38;5;241m.\u001B[39mleft, right\u001B[38;5;241m=\u001B[39mcomps[\u001B[38;5;241m0\u001B[39m])\n\u001B[1;32m--> 723\u001B[0m     \u001B[38;5;28;01mreturn\u001B[39;00m \u001B[38;5;28;43mself\u001B[39;49m\u001B[38;5;241;43m.\u001B[39;49m\u001B[43mvisit\u001B[49m\u001B[43m(\u001B[49m\u001B[43mbinop\u001B[49m\u001B[43m)\u001B[49m\n\u001B[0;32m    725\u001B[0m \u001B[38;5;66;03m# recursive case: we have a chained comparison, a CMP b CMP c, etc.\u001B[39;00m\n\u001B[0;32m    726\u001B[0m left \u001B[38;5;241m=\u001B[39m node\u001B[38;5;241m.\u001B[39mleft\n",
      "File \u001B[1;32mc:\\users\\vivobook\\pycharmprojects\\pythonproject3\\venv\\lib\\site-packages\\pandas\\core\\computation\\expr.py:415\u001B[0m, in \u001B[0;36mBaseExprVisitor.visit\u001B[1;34m(self, node, **kwargs)\u001B[0m\n\u001B[0;32m    413\u001B[0m method \u001B[38;5;241m=\u001B[39m \u001B[38;5;124m\"\u001B[39m\u001B[38;5;124mvisit_\u001B[39m\u001B[38;5;124m\"\u001B[39m \u001B[38;5;241m+\u001B[39m \u001B[38;5;28mtype\u001B[39m(node)\u001B[38;5;241m.\u001B[39m\u001B[38;5;18m__name__\u001B[39m\n\u001B[0;32m    414\u001B[0m visitor \u001B[38;5;241m=\u001B[39m \u001B[38;5;28mgetattr\u001B[39m(\u001B[38;5;28mself\u001B[39m, method)\n\u001B[1;32m--> 415\u001B[0m \u001B[38;5;28;01mreturn\u001B[39;00m visitor(node, \u001B[38;5;241m*\u001B[39m\u001B[38;5;241m*\u001B[39mkwargs)\n",
      "File \u001B[1;32mc:\\users\\vivobook\\pycharmprojects\\pythonproject3\\venv\\lib\\site-packages\\pandas\\core\\computation\\expr.py:536\u001B[0m, in \u001B[0;36mBaseExprVisitor.visit_BinOp\u001B[1;34m(self, node, **kwargs)\u001B[0m\n\u001B[0;32m    535\u001B[0m \u001B[38;5;28;01mdef\u001B[39;00m \u001B[38;5;21mvisit_BinOp\u001B[39m(\u001B[38;5;28mself\u001B[39m, node, \u001B[38;5;241m*\u001B[39m\u001B[38;5;241m*\u001B[39mkwargs):\n\u001B[1;32m--> 536\u001B[0m     op, op_class, left, right \u001B[38;5;241m=\u001B[39m \u001B[38;5;28;43mself\u001B[39;49m\u001B[38;5;241;43m.\u001B[39;49m\u001B[43m_maybe_transform_eq_ne\u001B[49m\u001B[43m(\u001B[49m\u001B[43mnode\u001B[49m\u001B[43m)\u001B[49m\n\u001B[0;32m    537\u001B[0m     left, right \u001B[38;5;241m=\u001B[39m \u001B[38;5;28mself\u001B[39m\u001B[38;5;241m.\u001B[39m_maybe_downcast_constants(left, right)\n\u001B[0;32m    538\u001B[0m     \u001B[38;5;28;01mreturn\u001B[39;00m \u001B[38;5;28mself\u001B[39m\u001B[38;5;241m.\u001B[39m_maybe_evaluate_binop(op, op_class, left, right)\n",
      "File \u001B[1;32mc:\\users\\vivobook\\pycharmprojects\\pythonproject3\\venv\\lib\\site-packages\\pandas\\core\\computation\\expr.py:458\u001B[0m, in \u001B[0;36mBaseExprVisitor._maybe_transform_eq_ne\u001B[1;34m(self, node, left, right)\u001B[0m\n\u001B[0;32m    456\u001B[0m     left \u001B[38;5;241m=\u001B[39m \u001B[38;5;28mself\u001B[39m\u001B[38;5;241m.\u001B[39mvisit(node\u001B[38;5;241m.\u001B[39mleft, side\u001B[38;5;241m=\u001B[39m\u001B[38;5;124m\"\u001B[39m\u001B[38;5;124mleft\u001B[39m\u001B[38;5;124m\"\u001B[39m)\n\u001B[0;32m    457\u001B[0m \u001B[38;5;28;01mif\u001B[39;00m right \u001B[38;5;129;01mis\u001B[39;00m \u001B[38;5;28;01mNone\u001B[39;00m:\n\u001B[1;32m--> 458\u001B[0m     right \u001B[38;5;241m=\u001B[39m \u001B[38;5;28;43mself\u001B[39;49m\u001B[38;5;241;43m.\u001B[39;49m\u001B[43mvisit\u001B[49m\u001B[43m(\u001B[49m\u001B[43mnode\u001B[49m\u001B[38;5;241;43m.\u001B[39;49m\u001B[43mright\u001B[49m\u001B[43m,\u001B[49m\u001B[43m \u001B[49m\u001B[43mside\u001B[49m\u001B[38;5;241;43m=\u001B[39;49m\u001B[38;5;124;43m\"\u001B[39;49m\u001B[38;5;124;43mright\u001B[39;49m\u001B[38;5;124;43m\"\u001B[39;49m\u001B[43m)\u001B[49m\n\u001B[0;32m    459\u001B[0m op, op_class, left, right \u001B[38;5;241m=\u001B[39m \u001B[38;5;28mself\u001B[39m\u001B[38;5;241m.\u001B[39m_rewrite_membership_op(node, left, right)\n\u001B[0;32m    460\u001B[0m \u001B[38;5;28;01mreturn\u001B[39;00m op, op_class, left, right\n",
      "File \u001B[1;32mc:\\users\\vivobook\\pycharmprojects\\pythonproject3\\venv\\lib\\site-packages\\pandas\\core\\computation\\expr.py:415\u001B[0m, in \u001B[0;36mBaseExprVisitor.visit\u001B[1;34m(self, node, **kwargs)\u001B[0m\n\u001B[0;32m    413\u001B[0m method \u001B[38;5;241m=\u001B[39m \u001B[38;5;124m\"\u001B[39m\u001B[38;5;124mvisit_\u001B[39m\u001B[38;5;124m\"\u001B[39m \u001B[38;5;241m+\u001B[39m \u001B[38;5;28mtype\u001B[39m(node)\u001B[38;5;241m.\u001B[39m\u001B[38;5;18m__name__\u001B[39m\n\u001B[0;32m    414\u001B[0m visitor \u001B[38;5;241m=\u001B[39m \u001B[38;5;28mgetattr\u001B[39m(\u001B[38;5;28mself\u001B[39m, method)\n\u001B[1;32m--> 415\u001B[0m \u001B[38;5;28;01mreturn\u001B[39;00m visitor(node, \u001B[38;5;241m*\u001B[39m\u001B[38;5;241m*\u001B[39mkwargs)\n",
      "File \u001B[1;32mc:\\users\\vivobook\\pycharmprojects\\pythonproject3\\venv\\lib\\site-packages\\pandas\\core\\computation\\expr.py:579\u001B[0m, in \u001B[0;36mBaseExprVisitor.visit_Subscript\u001B[1;34m(self, node, **kwargs)\u001B[0m\n\u001B[0;32m    577\u001B[0m value \u001B[38;5;241m=\u001B[39m \u001B[38;5;28mself\u001B[39m\u001B[38;5;241m.\u001B[39mvisit(node\u001B[38;5;241m.\u001B[39mvalue)\n\u001B[0;32m    578\u001B[0m slobj \u001B[38;5;241m=\u001B[39m \u001B[38;5;28mself\u001B[39m\u001B[38;5;241m.\u001B[39mvisit(node\u001B[38;5;241m.\u001B[39mslice)\n\u001B[1;32m--> 579\u001B[0m result \u001B[38;5;241m=\u001B[39m \u001B[43mpd_eval\u001B[49m\u001B[43m(\u001B[49m\n\u001B[0;32m    580\u001B[0m \u001B[43m    \u001B[49m\u001B[43mslobj\u001B[49m\u001B[43m,\u001B[49m\u001B[43m \u001B[49m\u001B[43mlocal_dict\u001B[49m\u001B[38;5;241;43m=\u001B[39;49m\u001B[38;5;28;43mself\u001B[39;49m\u001B[38;5;241;43m.\u001B[39;49m\u001B[43menv\u001B[49m\u001B[43m,\u001B[49m\u001B[43m \u001B[49m\u001B[43mengine\u001B[49m\u001B[38;5;241;43m=\u001B[39;49m\u001B[38;5;28;43mself\u001B[39;49m\u001B[38;5;241;43m.\u001B[39;49m\u001B[43mengine\u001B[49m\u001B[43m,\u001B[49m\u001B[43m \u001B[49m\u001B[43mparser\u001B[49m\u001B[38;5;241;43m=\u001B[39;49m\u001B[38;5;28;43mself\u001B[39;49m\u001B[38;5;241;43m.\u001B[39;49m\u001B[43mparser\u001B[49m\n\u001B[0;32m    581\u001B[0m \u001B[43m\u001B[49m\u001B[43m)\u001B[49m\n\u001B[0;32m    582\u001B[0m \u001B[38;5;28;01mtry\u001B[39;00m:\n\u001B[0;32m    583\u001B[0m     \u001B[38;5;66;03m# a Term instance\u001B[39;00m\n\u001B[0;32m    584\u001B[0m     v \u001B[38;5;241m=\u001B[39m value\u001B[38;5;241m.\u001B[39mvalue[result]\n",
      "File \u001B[1;32mc:\\users\\vivobook\\pycharmprojects\\pythonproject3\\venv\\lib\\site-packages\\pandas\\core\\computation\\eval.py:342\u001B[0m, in \u001B[0;36meval\u001B[1;34m(expr, parser, engine, truediv, local_dict, global_dict, resolvers, level, target, inplace)\u001B[0m\n\u001B[0;32m    339\u001B[0m _check_for_locals(expr, level, parser)\n\u001B[0;32m    341\u001B[0m \u001B[38;5;66;03m# get our (possibly passed-in) scope\u001B[39;00m\n\u001B[1;32m--> 342\u001B[0m env \u001B[38;5;241m=\u001B[39m \u001B[43mensure_scope\u001B[49m\u001B[43m(\u001B[49m\n\u001B[0;32m    343\u001B[0m \u001B[43m    \u001B[49m\u001B[43mlevel\u001B[49m\u001B[43m \u001B[49m\u001B[38;5;241;43m+\u001B[39;49m\u001B[43m \u001B[49m\u001B[38;5;241;43m1\u001B[39;49m\u001B[43m,\u001B[49m\n\u001B[0;32m    344\u001B[0m \u001B[43m    \u001B[49m\u001B[43mglobal_dict\u001B[49m\u001B[38;5;241;43m=\u001B[39;49m\u001B[43mglobal_dict\u001B[49m\u001B[43m,\u001B[49m\n\u001B[0;32m    345\u001B[0m \u001B[43m    \u001B[49m\u001B[43mlocal_dict\u001B[49m\u001B[38;5;241;43m=\u001B[39;49m\u001B[43mlocal_dict\u001B[49m\u001B[43m,\u001B[49m\n\u001B[0;32m    346\u001B[0m \u001B[43m    \u001B[49m\u001B[43mresolvers\u001B[49m\u001B[38;5;241;43m=\u001B[39;49m\u001B[43mresolvers\u001B[49m\u001B[43m,\u001B[49m\n\u001B[0;32m    347\u001B[0m \u001B[43m    \u001B[49m\u001B[43mtarget\u001B[49m\u001B[38;5;241;43m=\u001B[39;49m\u001B[43mtarget\u001B[49m\u001B[43m,\u001B[49m\n\u001B[0;32m    348\u001B[0m \u001B[43m\u001B[49m\u001B[43m)\u001B[49m\n\u001B[0;32m    350\u001B[0m parsed_expr \u001B[38;5;241m=\u001B[39m Expr(expr, engine\u001B[38;5;241m=\u001B[39mengine, parser\u001B[38;5;241m=\u001B[39mparser, env\u001B[38;5;241m=\u001B[39menv)\n\u001B[0;32m    352\u001B[0m \u001B[38;5;66;03m# construct the engine and evaluate the parsed expression\u001B[39;00m\n",
      "File \u001B[1;32mc:\\users\\vivobook\\pycharmprojects\\pythonproject3\\venv\\lib\\site-packages\\pandas\\core\\computation\\scope.py:24\u001B[0m, in \u001B[0;36mensure_scope\u001B[1;34m(level, global_dict, local_dict, resolvers, target, **kwargs)\u001B[0m\n\u001B[0;32m     20\u001B[0m \u001B[38;5;28;01mdef\u001B[39;00m \u001B[38;5;21mensure_scope\u001B[39m(\n\u001B[0;32m     21\u001B[0m     level: \u001B[38;5;28mint\u001B[39m, global_dict\u001B[38;5;241m=\u001B[39m\u001B[38;5;28;01mNone\u001B[39;00m, local_dict\u001B[38;5;241m=\u001B[39m\u001B[38;5;28;01mNone\u001B[39;00m, resolvers\u001B[38;5;241m=\u001B[39m(), target\u001B[38;5;241m=\u001B[39m\u001B[38;5;28;01mNone\u001B[39;00m, \u001B[38;5;241m*\u001B[39m\u001B[38;5;241m*\u001B[39mkwargs\n\u001B[0;32m     22\u001B[0m ) \u001B[38;5;241m-\u001B[39m\u001B[38;5;241m>\u001B[39m Scope:\n\u001B[0;32m     23\u001B[0m     \u001B[38;5;124;03m\"\"\"Ensure that we are grabbing the correct scope.\"\"\"\u001B[39;00m\n\u001B[1;32m---> 24\u001B[0m     \u001B[38;5;28;01mreturn\u001B[39;00m \u001B[43mScope\u001B[49m\u001B[43m(\u001B[49m\n\u001B[0;32m     25\u001B[0m \u001B[43m        \u001B[49m\u001B[43mlevel\u001B[49m\u001B[43m \u001B[49m\u001B[38;5;241;43m+\u001B[39;49m\u001B[43m \u001B[49m\u001B[38;5;241;43m1\u001B[39;49m\u001B[43m,\u001B[49m\n\u001B[0;32m     26\u001B[0m \u001B[43m        \u001B[49m\u001B[43mglobal_dict\u001B[49m\u001B[38;5;241;43m=\u001B[39;49m\u001B[43mglobal_dict\u001B[49m\u001B[43m,\u001B[49m\n\u001B[0;32m     27\u001B[0m \u001B[43m        \u001B[49m\u001B[43mlocal_dict\u001B[49m\u001B[38;5;241;43m=\u001B[39;49m\u001B[43mlocal_dict\u001B[49m\u001B[43m,\u001B[49m\n\u001B[0;32m     28\u001B[0m \u001B[43m        \u001B[49m\u001B[43mresolvers\u001B[49m\u001B[38;5;241;43m=\u001B[39;49m\u001B[43mresolvers\u001B[49m\u001B[43m,\u001B[49m\n\u001B[0;32m     29\u001B[0m \u001B[43m        \u001B[49m\u001B[43mtarget\u001B[49m\u001B[38;5;241;43m=\u001B[39;49m\u001B[43mtarget\u001B[49m\u001B[43m,\u001B[49m\n\u001B[0;32m     30\u001B[0m \u001B[43m    \u001B[49m\u001B[43m)\u001B[49m\n",
      "File \u001B[1;32mc:\\users\\vivobook\\pycharmprojects\\pythonproject3\\venv\\lib\\site-packages\\pandas\\core\\computation\\scope.py:128\u001B[0m, in \u001B[0;36mScope.__init__\u001B[1;34m(self, level, global_dict, local_dict, resolvers, target)\u001B[0m\n\u001B[0;32m    126\u001B[0m     \u001B[38;5;28;01mif\u001B[39;00m local_dict\u001B[38;5;241m.\u001B[39mtarget \u001B[38;5;129;01mis\u001B[39;00m \u001B[38;5;129;01mnot\u001B[39;00m \u001B[38;5;28;01mNone\u001B[39;00m:\n\u001B[0;32m    127\u001B[0m         \u001B[38;5;28mself\u001B[39m\u001B[38;5;241m.\u001B[39mtarget \u001B[38;5;241m=\u001B[39m local_dict\u001B[38;5;241m.\u001B[39mtarget\n\u001B[1;32m--> 128\u001B[0m     \u001B[38;5;28;43mself\u001B[39;49m\u001B[38;5;241;43m.\u001B[39;49m\u001B[43m_update\u001B[49m\u001B[43m(\u001B[49m\u001B[43mlocal_dict\u001B[49m\u001B[38;5;241;43m.\u001B[39;49m\u001B[43mlevel\u001B[49m\u001B[43m)\u001B[49m\n\u001B[0;32m    130\u001B[0m frame \u001B[38;5;241m=\u001B[39m sys\u001B[38;5;241m.\u001B[39m_getframe(\u001B[38;5;28mself\u001B[39m\u001B[38;5;241m.\u001B[39mlevel)\n\u001B[0;32m    132\u001B[0m \u001B[38;5;28;01mtry\u001B[39;00m:\n\u001B[0;32m    133\u001B[0m     \u001B[38;5;66;03m# shallow copy here because we don't want to replace what's in\u001B[39;00m\n\u001B[0;32m    134\u001B[0m     \u001B[38;5;66;03m# scope when we align terms (alignment accesses the underlying\u001B[39;00m\n\u001B[0;32m    135\u001B[0m     \u001B[38;5;66;03m# numpy array of pandas objects)\u001B[39;00m\n",
      "File \u001B[1;32mc:\\users\\vivobook\\pycharmprojects\\pythonproject3\\venv\\lib\\site-packages\\pandas\\core\\computation\\scope.py:274\u001B[0m, in \u001B[0;36mScope._update\u001B[1;34m(self, level)\u001B[0m\n\u001B[0;32m    269\u001B[0m sl \u001B[38;5;241m=\u001B[39m level \u001B[38;5;241m+\u001B[39m \u001B[38;5;241m1\u001B[39m\n\u001B[0;32m    271\u001B[0m \u001B[38;5;66;03m# add sl frames to the scope starting with the\u001B[39;00m\n\u001B[0;32m    272\u001B[0m \u001B[38;5;66;03m# most distant and overwriting with more current\u001B[39;00m\n\u001B[0;32m    273\u001B[0m \u001B[38;5;66;03m# makes sure that we can capture variable scope\u001B[39;00m\n\u001B[1;32m--> 274\u001B[0m stack \u001B[38;5;241m=\u001B[39m \u001B[43minspect\u001B[49m\u001B[38;5;241;43m.\u001B[39;49m\u001B[43mstack\u001B[49m\u001B[43m(\u001B[49m\u001B[43m)\u001B[49m\n\u001B[0;32m    276\u001B[0m \u001B[38;5;28;01mtry\u001B[39;00m:\n\u001B[0;32m    277\u001B[0m     \u001B[38;5;28mself\u001B[39m\u001B[38;5;241m.\u001B[39m_get_vars(stack[:sl], scopes\u001B[38;5;241m=\u001B[39m[\u001B[38;5;124m\"\u001B[39m\u001B[38;5;124mlocals\u001B[39m\u001B[38;5;124m\"\u001B[39m])\n",
      "File \u001B[1;32m~\\AppData\\Local\\Programs\\Python\\Python39\\lib\\inspect.py:1552\u001B[0m, in \u001B[0;36mstack\u001B[1;34m(context)\u001B[0m\n\u001B[0;32m   1550\u001B[0m \u001B[38;5;28;01mdef\u001B[39;00m \u001B[38;5;21mstack\u001B[39m(context\u001B[38;5;241m=\u001B[39m\u001B[38;5;241m1\u001B[39m):\n\u001B[0;32m   1551\u001B[0m     \u001B[38;5;124;03m\"\"\"Return a list of records for the stack above the caller's frame.\"\"\"\u001B[39;00m\n\u001B[1;32m-> 1552\u001B[0m     \u001B[38;5;28;01mreturn\u001B[39;00m \u001B[43mgetouterframes\u001B[49m\u001B[43m(\u001B[49m\u001B[43msys\u001B[49m\u001B[38;5;241;43m.\u001B[39;49m\u001B[43m_getframe\u001B[49m\u001B[43m(\u001B[49m\u001B[38;5;241;43m1\u001B[39;49m\u001B[43m)\u001B[49m\u001B[43m,\u001B[49m\u001B[43m \u001B[49m\u001B[43mcontext\u001B[49m\u001B[43m)\u001B[49m\n",
      "File \u001B[1;32m~\\AppData\\Local\\Programs\\Python\\Python39\\lib\\inspect.py:1529\u001B[0m, in \u001B[0;36mgetouterframes\u001B[1;34m(frame, context)\u001B[0m\n\u001B[0;32m   1527\u001B[0m framelist \u001B[38;5;241m=\u001B[39m []\n\u001B[0;32m   1528\u001B[0m \u001B[38;5;28;01mwhile\u001B[39;00m frame:\n\u001B[1;32m-> 1529\u001B[0m     frameinfo \u001B[38;5;241m=\u001B[39m (frame,) \u001B[38;5;241m+\u001B[39m \u001B[43mgetframeinfo\u001B[49m\u001B[43m(\u001B[49m\u001B[43mframe\u001B[49m\u001B[43m,\u001B[49m\u001B[43m \u001B[49m\u001B[43mcontext\u001B[49m\u001B[43m)\u001B[49m\n\u001B[0;32m   1530\u001B[0m     framelist\u001B[38;5;241m.\u001B[39mappend(FrameInfo(\u001B[38;5;241m*\u001B[39mframeinfo))\n\u001B[0;32m   1531\u001B[0m     frame \u001B[38;5;241m=\u001B[39m frame\u001B[38;5;241m.\u001B[39mf_back\n",
      "File \u001B[1;32m~\\AppData\\Local\\Programs\\Python\\Python39\\lib\\inspect.py:1503\u001B[0m, in \u001B[0;36mgetframeinfo\u001B[1;34m(frame, context)\u001B[0m\n\u001B[0;32m   1501\u001B[0m start \u001B[38;5;241m=\u001B[39m lineno \u001B[38;5;241m-\u001B[39m \u001B[38;5;241m1\u001B[39m \u001B[38;5;241m-\u001B[39m context\u001B[38;5;241m/\u001B[39m\u001B[38;5;241m/\u001B[39m\u001B[38;5;241m2\u001B[39m\n\u001B[0;32m   1502\u001B[0m \u001B[38;5;28;01mtry\u001B[39;00m:\n\u001B[1;32m-> 1503\u001B[0m     lines, lnum \u001B[38;5;241m=\u001B[39m \u001B[43mfindsource\u001B[49m\u001B[43m(\u001B[49m\u001B[43mframe\u001B[49m\u001B[43m)\u001B[49m\n\u001B[0;32m   1504\u001B[0m \u001B[38;5;28;01mexcept\u001B[39;00m \u001B[38;5;167;01mOSError\u001B[39;00m:\n\u001B[0;32m   1505\u001B[0m     lines \u001B[38;5;241m=\u001B[39m index \u001B[38;5;241m=\u001B[39m \u001B[38;5;28;01mNone\u001B[39;00m\n",
      "File \u001B[1;32m~\\AppData\\Local\\Programs\\Python\\Python39\\lib\\inspect.py:817\u001B[0m, in \u001B[0;36mfindsource\u001B[1;34m(object)\u001B[0m\n\u001B[0;32m    809\u001B[0m \u001B[38;5;28;01mdef\u001B[39;00m \u001B[38;5;21mfindsource\u001B[39m(\u001B[38;5;28mobject\u001B[39m):\n\u001B[0;32m    810\u001B[0m     \u001B[38;5;124;03m\"\"\"Return the entire source file and starting line number for an object.\u001B[39;00m\n\u001B[0;32m    811\u001B[0m \n\u001B[0;32m    812\u001B[0m \u001B[38;5;124;03m    The argument may be a module, class, method, function, traceback, frame,\u001B[39;00m\n\u001B[0;32m    813\u001B[0m \u001B[38;5;124;03m    or code object.  The source code is returned as a list of all the lines\u001B[39;00m\n\u001B[0;32m    814\u001B[0m \u001B[38;5;124;03m    in the file and the line number indexes a line in that list.  An OSError\u001B[39;00m\n\u001B[0;32m    815\u001B[0m \u001B[38;5;124;03m    is raised if the source code cannot be retrieved.\"\"\"\u001B[39;00m\n\u001B[1;32m--> 817\u001B[0m     file \u001B[38;5;241m=\u001B[39m \u001B[43mgetsourcefile\u001B[49m\u001B[43m(\u001B[49m\u001B[38;5;28;43mobject\u001B[39;49m\u001B[43m)\u001B[49m\n\u001B[0;32m    818\u001B[0m     \u001B[38;5;28;01mif\u001B[39;00m file:\n\u001B[0;32m    819\u001B[0m         \u001B[38;5;66;03m# Invalidate cache if needed.\u001B[39;00m\n\u001B[0;32m    820\u001B[0m         linecache\u001B[38;5;241m.\u001B[39mcheckcache(file)\n",
      "File \u001B[1;32m~\\AppData\\Local\\Programs\\Python\\Python39\\lib\\inspect.py:706\u001B[0m, in \u001B[0;36mgetsourcefile\u001B[1;34m(object)\u001B[0m\n\u001B[0;32m    703\u001B[0m \u001B[38;5;28;01melif\u001B[39;00m \u001B[38;5;28many\u001B[39m(filename\u001B[38;5;241m.\u001B[39mendswith(s) \u001B[38;5;28;01mfor\u001B[39;00m s \u001B[38;5;129;01min\u001B[39;00m\n\u001B[0;32m    704\u001B[0m              importlib\u001B[38;5;241m.\u001B[39mmachinery\u001B[38;5;241m.\u001B[39mEXTENSION_SUFFIXES):\n\u001B[0;32m    705\u001B[0m     \u001B[38;5;28;01mreturn\u001B[39;00m \u001B[38;5;28;01mNone\u001B[39;00m\n\u001B[1;32m--> 706\u001B[0m \u001B[38;5;28;01mif\u001B[39;00m \u001B[43mos\u001B[49m\u001B[38;5;241;43m.\u001B[39;49m\u001B[43mpath\u001B[49m\u001B[38;5;241;43m.\u001B[39;49m\u001B[43mexists\u001B[49m\u001B[43m(\u001B[49m\u001B[43mfilename\u001B[49m\u001B[43m)\u001B[49m:\n\u001B[0;32m    707\u001B[0m     \u001B[38;5;28;01mreturn\u001B[39;00m filename\n\u001B[0;32m    708\u001B[0m \u001B[38;5;66;03m# only return a non-existent filename if the module has a PEP 302 loader\u001B[39;00m\n",
      "File \u001B[1;32m~\\AppData\\Local\\Programs\\Python\\Python39\\lib\\genericpath.py:19\u001B[0m, in \u001B[0;36mexists\u001B[1;34m(path)\u001B[0m\n\u001B[0;32m     17\u001B[0m \u001B[38;5;124;03m\"\"\"Test whether a path exists.  Returns False for broken symbolic links\"\"\"\u001B[39;00m\n\u001B[0;32m     18\u001B[0m \u001B[38;5;28;01mtry\u001B[39;00m:\n\u001B[1;32m---> 19\u001B[0m     \u001B[43mos\u001B[49m\u001B[38;5;241;43m.\u001B[39;49m\u001B[43mstat\u001B[49m\u001B[43m(\u001B[49m\u001B[43mpath\u001B[49m\u001B[43m)\u001B[49m\n\u001B[0;32m     20\u001B[0m \u001B[38;5;28;01mexcept\u001B[39;00m (\u001B[38;5;167;01mOSError\u001B[39;00m, \u001B[38;5;167;01mValueError\u001B[39;00m):\n\u001B[0;32m     21\u001B[0m     \u001B[38;5;28;01mreturn\u001B[39;00m \u001B[38;5;28;01mFalse\u001B[39;00m\n",
      "\u001B[1;31mKeyboardInterrupt\u001B[0m: "
     ]
    }
   ],
   "source": [
    "number_matches = xg_base_matches.id_offvariance.count()\n",
    "shots_count_home = []\n",
    "xg_home_team = []\n",
    "xg_away_team = []\n",
    "shots_count_away = []\n",
    "shots_home_0_0_1 = []\n",
    "shots_home_0_1_0_2 = []\n",
    "shots_home_0_2_0_3 = []\n",
    "shots_home_0_3_0_4 = []\n",
    "shots_home_0_4_0_5 = []\n",
    "shots_home_0_5_0_6 = []\n",
    "shots_home_0_6_0_7 = []\n",
    "shots_home_0_7_0_8 = []\n",
    "shots_home_0_8_0_9 = []\n",
    "shots_home_0_9_1 = []\n",
    "shots_away_0_0_1 = []\n",
    "shots_away_0_1_0_2 = []\n",
    "shots_away_0_2_0_3 = []\n",
    "shots_away_0_3_0_4 = []\n",
    "shots_away_0_4_0_5 = []\n",
    "shots_away_0_5_0_6 = []\n",
    "shots_away_0_6_0_7 = []\n",
    "shots_away_0_7_0_8 = []\n",
    "shots_away_0_8_0_9 = []\n",
    "shots_away_0_9_1 = []\n",
    "\n",
    "index = 0\n",
    "for i in range(number_matches):\n",
    "    shots_count_home.append(xg_base_no_penalty.query('id_offvariance == @xg_base_matches.id_offvariance[@index] and xg_home > 0').shape[0])\n",
    "    xg_home_team.append(xg_base_no_penalty.query('id_offvariance == @xg_base_matches.id_offvariance[@index] and xg_home > 0').xg_home.sum())\n",
    "    shots_count_away.append(xg_base_no_penalty.query('id_offvariance == @xg_base_matches.id_offvariance[@index] and xg_away > 0').shape[0])\n",
    "    xg_away_team.append(xg_base_no_penalty.query('id_offvariance == @xg_base_matches.id_offvariance[@index] and xg_away > 0').xg_away.sum())\n",
    "    shots_home_0_0_1.append(xg_base_no_penalty.query('id_offvariance == @xg_base_matches.id_offvariance[@index] and 0 < xg_home < 0.1').shape[0])\n",
    "    shots_home_0_1_0_2.append(xg_base_no_penalty.query('id_offvariance == @xg_base_matches.id_offvariance[@index] and 0.1 <= xg_home < 0.2').shape[0])\n",
    "    shots_home_0_2_0_3.append(xg_base_no_penalty.query('id_offvariance == @xg_base_matches.id_offvariance[@index] and 0.2 <= xg_home < 0.3').shape[0])\n",
    "    shots_home_0_3_0_4.append(xg_base_no_penalty.query('id_offvariance == @xg_base_matches.id_offvariance[@index] and 0.3 <= xg_home < 0.4').shape[0])\n",
    "    shots_home_0_4_0_5.append(xg_base_no_penalty.query('id_offvariance == @xg_base_matches.id_offvariance[@index] and 0.4 <= xg_home < 0.5').shape[0])\n",
    "    shots_home_0_5_0_6.append(xg_base_no_penalty.query('id_offvariance == @xg_base_matches.id_offvariance[@index] and 0.5 <= xg_home < 0.6').shape[0])\n",
    "    shots_home_0_6_0_7.append(xg_base_no_penalty.query('id_offvariance == @xg_base_matches.id_offvariance[@index] and 0.6 <= xg_home < 0.7').shape[0])\n",
    "    shots_home_0_7_0_8.append(xg_base_no_penalty.query('id_offvariance == @xg_base_matches.id_offvariance[@index] and 0.7 <= xg_home < 0.8').shape[0])\n",
    "    shots_home_0_8_0_9.append(xg_base_no_penalty.query('id_offvariance == @xg_base_matches.id_offvariance[@index] and 0.8 <= xg_home < 0.9').shape[0])\n",
    "    shots_home_0_9_1.append(xg_base_no_penalty.query('id_offvariance == @xg_base_matches.id_offvariance[@index] and 0.9 <= xg_home <= 1').shape[0])\n",
    "    shots_away_0_0_1.append(xg_base_no_penalty.query('id_offvariance == @xg_base_matches.id_offvariance[@index] and 0 < xg_away < 0.1').shape[0])\n",
    "    shots_away_0_1_0_2.append(xg_base_no_penalty.query('id_offvariance == @xg_base_matches.id_offvariance[@index] and 0.1 <= xg_away < 0.2').shape[0])\n",
    "    shots_away_0_2_0_3.append(xg_base_no_penalty.query('id_offvariance == @xg_base_matches.id_offvariance[@index] and 0.2 <= xg_away < 0.3').shape[0])\n",
    "    shots_away_0_3_0_4.append(xg_base_no_penalty.query('id_offvariance == @xg_base_matches.id_offvariance[@index] and 0.3 <= xg_away < 0.4').shape[0])\n",
    "    shots_away_0_4_0_5.append(xg_base_no_penalty.query('id_offvariance == @xg_base_matches.id_offvariance[@index] and 0.4 <= xg_away < 0.5').shape[0])\n",
    "    shots_away_0_5_0_6.append(xg_base_no_penalty.query('id_offvariance == @xg_base_matches.id_offvariance[@index] and 0.5 <= xg_away < 0.6').shape[0])\n",
    "    shots_away_0_6_0_7.append(xg_base_no_penalty.query('id_offvariance == @xg_base_matches.id_offvariance[@index] and 0.6 <= xg_away < 0.7').shape[0])\n",
    "    shots_away_0_7_0_8.append(xg_base_no_penalty.query('id_offvariance == @xg_base_matches.id_offvariance[@index] and 0.7 <= xg_away < 0.8').shape[0])\n",
    "    shots_away_0_8_0_9.append(xg_base_no_penalty.query('id_offvariance == @xg_base_matches.id_offvariance[@index] and 0.8 <= xg_away < 0.9').shape[0])\n",
    "    shots_away_0_9_1.append(xg_base_no_penalty.query('id_offvariance == @xg_base_matches.id_offvariance[@index] and 0.9 <= xg_away <= 1').shape[0])\n",
    "\n",
    "    index = index + 1"
   ],
   "metadata": {
    "collapsed": false,
    "pycharm": {
     "name": "#%%\n"
    }
   }
  },
  {
   "cell_type": "code",
   "execution_count": null,
   "outputs": [],
   "source": [
    "# Добавляем новы колонки\n",
    "xg_base_matches['shots_count_home'] = shots_count_home\n",
    "xg_base_matches['xg_home_team'] = xg_home_team\n",
    "xg_base_matches['shots_count_away'] = shots_count_away\n",
    "xg_base_matches['xg_away_team'] = xg_away_team\n",
    "xg_base_matches['shots_home_0_0_1'] = shots_home_0_0_1\n",
    "xg_base_matches['shots_home_0_1_0_2'] = shots_home_0_1_0_2\n",
    "xg_base_matches['shots_home_0_2_0_3'] = shots_home_0_2_0_3\n",
    "xg_base_matches['shots_home_0_3_0_4'] = shots_home_0_3_0_4\n",
    "xg_base_matches['shots_home_0_4_0_5'] = shots_home_0_4_0_5\n",
    "xg_base_matches['shots_home_0_5_0_6'] = shots_home_0_5_0_6\n",
    "xg_base_matches['shots_home_0_6_0_7'] = shots_home_0_6_0_7\n",
    "xg_base_matches['shots_home_0_7_0_8'] = shots_home_0_7_0_8\n",
    "xg_base_matches['shots_home_0_8_0_9'] = shots_home_0_8_0_9\n",
    "xg_base_matches['shots_home_0_9_1'] = shots_home_0_9_1\n",
    "xg_base_matches['shots_away_0_0_1'] = shots_away_0_0_1\n",
    "xg_base_matches['shots_away_0_1_0_2'] = shots_away_0_1_0_2\n",
    "xg_base_matches['shots_away_0_2_0_3'] = shots_away_0_2_0_3\n",
    "xg_base_matches['shots_away_0_3_0_4'] = shots_away_0_3_0_4\n",
    "xg_base_matches['shots_away_0_4_0_5'] = shots_away_0_4_0_5\n",
    "xg_base_matches['shots_away_0_5_0_6'] = shots_away_0_5_0_6\n",
    "xg_base_matches['shots_away_0_6_0_7'] = shots_away_0_6_0_7\n",
    "xg_base_matches['shots_away_0_7_0_8'] = shots_away_0_7_0_8\n",
    "xg_base_matches['shots_away_0_8_0_9'] = shots_away_0_8_0_9\n",
    "xg_base_matches['shots_away_0_9_1'] = shots_away_0_9_1\n",
    "xg_base_matches = xg_base_matches.reindex(columns=['id_offvariance', 'date', 'id_tournament', 'home', 'away', 'final_score_home', 'final_score_away', 'shots_count_home', 'xg_home_team', 'shots_count_away', 'xg_away_team', 'shots_home_0_0_1', 'shots_home_0_1_0_2', 'shots_home_0_2_0_3', 'shots_home_0_3_0_4', 'shots_home_0_4_0_5', 'shots_home_0_5_0_6', 'shots_home_0_6_0_7', 'shots_home_0_7_0_8', 'shots_home_0_8_0_9', 'shots_home_0_9_1', 'shots_away_0_0_1', 'shots_away_0_1_0_2', 'shots_away_0_2_0_3', 'shots_away_0_3_0_4', 'shots_away_0_4_0_5', 'shots_away_0_5_0_6', 'shots_away_0_6_0_7', 'shots_away_0_7_0_8', 'shots_away_0_8_0_9', 'shots_away_0_9_1', 'open_home', 'open_draw', 'open_away', 'open_over_2_5', 'open_under_2_5', 'close_home', 'close_draw', 'close_away', 'close_over_2_5', 'close_under_2_5'])\n",
    "xg_base_matches['index_col'] = np.arange(1, xg_base_matches.shape[0] + 1)\n",
    "xg_base_matches"
   ],
   "metadata": {
    "collapsed": false,
    "pycharm": {
     "name": "#%%\n"
    }
   }
  },
  {
   "cell_type": "code",
   "execution_count": null,
   "outputs": [],
   "source": [
    "number_matches = xg_base_matches.id_offvariance.count()\n",
    "id_match = []\n",
    "date = []\n",
    "tournament_id = []\n",
    "home_team = []\n",
    "away_team = []\n",
    "score_home = []\n",
    "score_away = []\n",
    "home_goals = []\n",
    "away_goals = []\n",
    "home_missed_goals = []\n",
    "away_missed_goals = []\n",
    "open_p1 = []\n",
    "open_draw = []\n",
    "open_p2 = []\n",
    "open_over_2_5 = []\n",
    "open_under_2_5 = []\n",
    "close_p1 = []\n",
    "close_draw = []\n",
    "close_p2 = []\n",
    "close_over_2_5 = []\n",
    "close_under_2_5 = []\n",
    "new_home = []\n",
    "new_away = []\n",
    "games_home = []\n",
    "games_away = []\n",
    "index_col = []\n",
    "\n",
    "index = 0\n",
    "for i in range(number_matches):\n",
    "    id_match.append(xg_base_matches.id_offvariance[index])\n",
    "    date.append(xg_base_matches.date[index])\n",
    "    tournament_id.append(xg_base_matches.id_tournament[index])\n",
    "    home_team.append(xg_base_matches.home[index])\n",
    "    away_team.append(xg_base_matches.away[index])\n",
    "    score_home.append(xg_base_matches.final_score_home[index])\n",
    "    score_away.append(xg_base_matches.final_score_away[index])\n",
    "    home_goals.append(xg_base_matches.query('home == @xg_base_matches.home[@index] and id_tournament == @xg_base_matches.id_tournament[@index] and index < @xg_base_matches.index[@index]').final_score_home.sum() + xg_base_matches.query('away == @xg_base_matches.home[@index] and id_tournament == @xg_base_matches.id_tournament[@index] and index < @xg_base_matches.index[@index]').final_score_away.sum())\n",
    "    away_goals.append(xg_base_matches.query('away == @xg_base_matches.away[@index] and id_tournament == @xg_base_matches.id_tournament[@index] and index < @xg_base_matches.index[@index]').final_score_away.sum() + xg_base_matches.query('home == @xg_base_matches.away[@index] and id_tournament == @xg_base_matches.id_tournament[@index] and index < @xg_base_matches.index[@index]').final_score_home.sum())\n",
    "    home_missed_goals.append(xg_base_matches.query('home == @xg_base_matches.home[@index] and id_tournament == @xg_base_matches.id_tournament[@index] and index < @xg_base_matches.index[@index]').final_score_away.sum() + xg_base_matches.query('away == @xg_base_matches.home[@index] and id_tournament == @xg_base_matches.id_tournament[@index] and index < @xg_base_matches.index[@index]').final_score_home.sum())\n",
    "    away_missed_goals.append(xg_base_matches.query('away == @xg_base_matches.away[@index] and id_tournament == @xg_base_matches.id_tournament[@index] and index < @xg_base_matches.index[@index]').final_score_home.sum() + xg_base_matches.query('home == @xg_base_matches.away[@index] and id_tournament == @xg_base_matches.id_tournament[@index] and index < @xg_base_matches.index[@index]').final_score_away.sum())\n",
    "    open_p1.append(xg_base_matches.open_home[index])\n",
    "    open_draw.append(xg_base_matches.open_draw[index])\n",
    "    open_p2.append(xg_base_matches.open_away[index])\n",
    "    open_over_2_5.append(xg_base_matches.open_over_2_5[index])\n",
    "    open_under_2_5.append(xg_base_matches.open_under_2_5[index])\n",
    "    close_p1.append(xg_base_matches.close_home[index])\n",
    "    close_draw.append(xg_base_matches.close_draw[index])\n",
    "    close_p2.append(xg_base_matches.close_away[index])\n",
    "    close_over_2_5.append(xg_base_matches.close_over_2_5[index])\n",
    "    close_under_2_5.append(xg_base_matches.close_under_2_5[index])\n",
    "    new_home.append(xg_base_matches.query('home == @xg_base_matches.home[@index] and id_tournament == @xg_base_matches.id_tournament[@index] and index < @xg_base_matches.index[@index]').shots_count_home.sum() + xg_base_matches.query('away == @xg_base_matches.home[@index] and id_tournament == @xg_base_matches.id_tournament[@index] and index < @xg_base_matches.index[@index]').shots_count_away.sum())\n",
    "    new_away.append(xg_base_matches.query('away == @xg_base_matches.away[@index] and id_tournament == @xg_base_matches.id_tournament[@index] and index < @xg_base_matches.index[@index]').shots_count_away.sum() + xg_base_matches.query('home == @xg_base_matches.away[@index] and id_tournament == @xg_base_matches.id_tournament[@index] and index < @xg_base_matches.index[@index]').shots_count_home.sum())\n",
    "    games_home.append(xg_base_matches.query('home == @xg_base_matches.home[@index] and id_tournament == @xg_base_matches.id_tournament[@index] and index < @xg_base_matches.index[@index]').date.count() + xg_base_matches.query('away == @xg_base_matches.home[@index] and id_tournament == @xg_base_matches.id_tournament[@index] and index < @xg_base_matches.index[@index]').date.count())\n",
    "    games_away.append(xg_base_matches.query('away == @xg_base_matches.away[@index] and id_tournament == @xg_base_matches.id_tournament[@index] and index < @xg_base_matches.index[@index]').date.count() + xg_base_matches.query('home == @xg_base_matches.away[@index] and id_tournament == @xg_base_matches.id_tournament[@index] and index < @xg_base_matches.index[@index]').date.count())\n",
    "    index_col.append(xg_base_matches.index_col[index])\n",
    "\n",
    "\n",
    "    table_df = pd.DataFrame({'id_offvariance': id_match,\n",
    "                             'date': date,\n",
    "                             'id_tournament': tournament_id,\n",
    "                             'home': home_team,\n",
    "                             'away': away_team,\n",
    "                             'score_home': score_home,\n",
    "                             'score_away': score_away,\n",
    "                             'home_goals': home_goals,\n",
    "                             'away_goals': away_goals,\n",
    "                             'home_missed_goals': home_missed_goals,\n",
    "                             'away_missed_goals': away_missed_goals,\n",
    "                             'open_home': open_p1,\n",
    "                             'open_draw': open_draw,\n",
    "                             'open_away': open_p2,\n",
    "                             'open_over_2_5': open_over_2_5,\n",
    "                             'open_under_2_5': open_under_2_5,\n",
    "                             'close_home': close_p1,\n",
    "                             'close_draw': close_draw,\n",
    "                             'close_away': close_p2,\n",
    "                             'close_over_2_5': close_over_2_5,\n",
    "                             'close_under_2_5': close_under_2_5,\n",
    "                             'new_home': new_home,\n",
    "                             'new_away': new_away,\n",
    "                             'games_home': games_home,\n",
    "                             'games_away': games_away,\n",
    "                             'index_col': index_col})\n",
    "\n",
    "    index = index +1\n",
    "table_df['goal_difference_home'] = table_df['home_goals'] - table_df['home_missed_goals']\n",
    "table_df['goal_difference_away'] = table_df['away_goals'] - table_df['away_missed_goals']\n",
    "table_df = table_df.reindex(columns=['id_offvariance', 'date', 'id_tournament', 'home', 'away', 'score_home', 'score_away', 'games_home', 'games_away', 'home_goals', 'away_goals', 'home_missed_goals', 'away_missed_goals', 'goal_difference_home', 'goal_difference_away', 'open_home', 'open_draw', 'open_away', 'open_over_2_5', 'open_under_2_5', 'close_home', 'close_draw', 'close_away', 'close_over_2_5', 'close_under_2_5', 'new_home','new_away', 'index_col'])"
   ],
   "metadata": {
    "collapsed": false,
    "pycharm": {
     "name": "#%%\n"
    }
   }
  },
  {
   "cell_type": "code",
   "execution_count": null,
   "outputs": [],
   "source": [
    "table_df['profit_home_open'] = np.where(table_df['score_home'] > table_df['score_away'], table_df['open_home']-1, -1 )\n",
    "table_df['profit_draw_open'] = np.where(table_df['score_home'] == table_df['score_away'], table_df['open_draw']-1, -1 )\n",
    "table_df['profit_away_open'] = np.where(table_df['score_home'] < table_df['score_away'], table_df['open_away']-1, -1 )\n",
    "table_df['profit_over_2_5_open'] = np.where(table_df['score_home'] + table_df['score_away'] > 2.5, table_df['open_over_2_5']-1, -1 )\n",
    "table_df['profit_under_2_5_open'] = np.where(table_df['score_home'] + table_df['score_away'] < 2.5, table_df['open_under_2_5']-1, -1 )\n",
    "table_df['profit_home_close'] = np.where(table_df['score_home'] > table_df['score_away'], table_df['close_home']-1, -1 )\n",
    "table_df['profit_draw_close'] = np.where(table_df['score_home'] == table_df['score_away'], table_df['close_draw']-1, -1 )\n",
    "table_df['profit_away_close'] = np.where(table_df['score_home'] < table_df['score_away'], table_df['close_away']-1, -1 )\n",
    "table_df['profit_over_2_5_close'] = np.where(table_df['score_home'] + table_df['score_away'] > 2.5, table_df['close_over_2_5']-1, -1 )\n",
    "table_df['profit_under_2_5_close'] = np.where(table_df['score_home'] + table_df['score_away'] < 2.5, table_df['close_under_2_5']-1, -1 )\n",
    "table_df"
   ],
   "metadata": {
    "collapsed": false,
    "pycharm": {
     "name": "#%%\n"
    }
   }
  },
  {
   "cell_type": "code",
   "execution_count": null,
   "outputs": [],
   "source": [
    "table_df = table_df.loc[(table_df['new_home'] != 0) & (table_df['new_away'] != 0)]\n",
    "table_df = table_df.reset_index(drop=True)\n",
    "table_df = table_df.drop(['new_home', 'new_away'], axis=1)"
   ],
   "metadata": {
    "collapsed": false,
    "pycharm": {
     "name": "#%%\n"
    }
   }
  },
  {
   "cell_type": "code",
   "execution_count": null,
   "outputs": [],
   "source": [
    "number_matches = table_df.id_offvariance.count()\n",
    "group_home_0_0_1 = []\n",
    "group_home_0_1_0_2 = []\n",
    "group_home_0_2_0_3 = []\n",
    "group_home_0_3_0_4 = []\n",
    "group_home_0_4_0_5 = []\n",
    "group_home_0_5_0_6 = []\n",
    "group_home_0_6_0_7 = []\n",
    "group_home_0_7_0_8 = []\n",
    "group_home_0_8_0_9 = []\n",
    "group_home_0_9_1 = []\n",
    "group_away_0_0_1 = []\n",
    "group_away_0_1_0_2 = []\n",
    "group_away_0_2_0_3 = []\n",
    "group_away_0_3_0_4 = []\n",
    "group_away_0_4_0_5 = []\n",
    "group_away_0_5_0_6 = []\n",
    "group_away_0_6_0_7 = []\n",
    "group_away_0_7_0_8 = []\n",
    "group_away_0_8_0_9 = []\n",
    "group_away_0_9_1 = []\n",
    "exp_xg100_home = []\n",
    "exp_xg100_away = []\n",
    "\n",
    "index = 0\n",
    "for i in range(number_matches):\n",
    "    group_home_0_0_1.append((xg_base_matches.query('home == @table_df.home[@index] and id_tournament == @table_df.id_tournament[@index] and index_col < @table_df.index_col[@index]').shots_home_0_0_1.sum() + xg_base_matches.query('away == @table_df.home[@index] and id_tournament == @table_df.id_tournament[@index] and index_col < @table_df.index_col[@index]').shots_away_0_0_1.sum()) / (xg_base_matches.query('home == @table_df.home[@index] and id_tournament == @table_df.id_tournament[@index] and index_col < @table_df.index_col[@index]').shots_count_home.sum() + xg_base_matches.query('away == @table_df.home[@index] and id_tournament == @table_df.id_tournament[@index] and index_col < @table_df.index_col[@index]').shots_count_away.sum()))\n",
    "    group_home_0_1_0_2.append((xg_base_matches.query('home == @table_df.home[@index] and id_tournament == @table_df.id_tournament[@index] and index_col < @table_df.index_col[@index]').shots_home_0_1_0_2.sum() + xg_base_matches.query('away == @table_df.home[@index] and id_tournament == @table_df.id_tournament[@index] and index_col < @table_df.index_col[@index]').shots_away_0_1_0_2.sum()) / (xg_base_matches.query('home == @table_df.home[@index] and id_tournament == @table_df.id_tournament[@index] and index_col < @table_df.index_col[@index]').shots_count_home.sum() + xg_base_matches.query('away == @table_df.home[@index] and id_tournament == @table_df.id_tournament[@index] and index_col < @table_df.index_col[@index]').shots_count_away.sum()))\n",
    "    group_home_0_2_0_3.append((xg_base_matches.query('home == @table_df.home[@index] and id_tournament == @table_df.id_tournament[@index] and index_col < @table_df.index_col[@index]').shots_home_0_2_0_3.sum() + xg_base_matches.query('away == @table_df.home[@index] and id_tournament == @table_df.id_tournament[@index] and index_col < @table_df.index_col[@index]').shots_away_0_2_0_3.sum()) / (xg_base_matches.query('home == @table_df.home[@index] and id_tournament == @table_df.id_tournament[@index] and index_col < @table_df.index_col[@index]').shots_count_home.sum() + xg_base_matches.query('away == @table_df.home[@index] and id_tournament == @table_df.id_tournament[@index] and index_col < @table_df.index_col[@index]').shots_count_away.sum()))\n",
    "    group_home_0_3_0_4.append((xg_base_matches.query('home == @table_df.home[@index] and id_tournament == @table_df.id_tournament[@index] and index_col < @table_df.index_col[@index]').shots_home_0_3_0_4.sum() + xg_base_matches.query('away == @table_df.home[@index] and id_tournament == @table_df.id_tournament[@index] and index_col < @table_df.index_col[@index]').shots_away_0_3_0_4.sum()) / (xg_base_matches.query('home == @table_df.home[@index] and id_tournament == @table_df.id_tournament[@index] and index_col < @table_df.index_col[@index]').shots_count_home.sum() + xg_base_matches.query('away == @table_df.home[@index] and id_tournament == @table_df.id_tournament[@index] and index_col < @table_df.index_col[@index]').shots_count_away.sum()))\n",
    "    group_home_0_4_0_5.append((xg_base_matches.query('home == @table_df.home[@index] and id_tournament == @table_df.id_tournament[@index] and index_col < @table_df.index_col[@index]').shots_home_0_4_0_5.sum() + xg_base_matches.query('away == @table_df.home[@index] and id_tournament == @table_df.id_tournament[@index] and index_col < @table_df.index_col[@index]').shots_away_0_4_0_5.sum()) / (xg_base_matches.query('home == @table_df.home[@index] and id_tournament == @table_df.id_tournament[@index] and index_col < @table_df.index_col[@index]').shots_count_home.sum() + xg_base_matches.query('away == @table_df.home[@index] and id_tournament == @table_df.id_tournament[@index] and index_col < @table_df.index_col[@index]').shots_count_away.sum()))\n",
    "    group_home_0_5_0_6.append((xg_base_matches.query('home == @table_df.home[@index] and id_tournament == @table_df.id_tournament[@index] and index_col < @table_df.index_col[@index]').shots_home_0_5_0_6.sum() + xg_base_matches.query('away == @table_df.home[@index] and id_tournament == @table_df.id_tournament[@index] and index_col < @table_df.index_col[@index]').shots_away_0_5_0_6.sum()) / (xg_base_matches.query('home == @table_df.home[@index] and id_tournament == @table_df.id_tournament[@index] and index_col < @table_df.index_col[@index]').shots_count_home.sum() + xg_base_matches.query('away == @table_df.home[@index] and id_tournament == @table_df.id_tournament[@index] and index_col < @table_df.index_col[@index]').shots_count_away.sum()))\n",
    "    group_home_0_6_0_7.append((xg_base_matches.query('home == @table_df.home[@index] and id_tournament == @table_df.id_tournament[@index] and index_col < @table_df.index_col[@index]').shots_home_0_6_0_7.sum() + xg_base_matches.query('away == @table_df.home[@index] and id_tournament == @table_df.id_tournament[@index] and index_col < @table_df.index_col[@index]').shots_away_0_6_0_7.sum()) / (xg_base_matches.query('home == @table_df.home[@index] and id_tournament == @table_df.id_tournament[@index] and index_col < @table_df.index_col[@index]').shots_count_home.sum() + xg_base_matches.query('away == @table_df.home[@index] and id_tournament == @table_df.id_tournament[@index] and index_col < @table_df.index_col[@index]').shots_count_away.sum()))\n",
    "    group_home_0_7_0_8.append((xg_base_matches.query('home == @table_df.home[@index] and id_tournament == @table_df.id_tournament[@index] and index_col < @table_df.index_col[@index]').shots_home_0_7_0_8.sum() + xg_base_matches.query('away == @table_df.home[@index] and id_tournament == @table_df.id_tournament[@index] and index_col < @table_df.index_col[@index]').shots_away_0_7_0_8.sum()) / (xg_base_matches.query('home == @table_df.home[@index] and id_tournament == @table_df.id_tournament[@index] and index_col < @table_df.index_col[@index]').shots_count_home.sum() + xg_base_matches.query('away == @table_df.home[@index] and id_tournament == @table_df.id_tournament[@index] and index_col < @table_df.index_col[@index]').shots_count_away.sum()))\n",
    "    group_home_0_8_0_9.append((xg_base_matches.query('home == @table_df.home[@index] and id_tournament == @table_df.id_tournament[@index] and index_col < @table_df.index_col[@index]').shots_home_0_8_0_9.sum() + xg_base_matches.query('away == @table_df.home[@index] and id_tournament == @table_df.id_tournament[@index] and index_col < @table_df.index_col[@index]').shots_away_0_8_0_9.sum()) / (xg_base_matches.query('home == @table_df.home[@index] and id_tournament == @table_df.id_tournament[@index] and index_col < @table_df.index_col[@index]').shots_count_home.sum() + xg_base_matches.query('away == @table_df.home[@index] and id_tournament == @table_df.id_tournament[@index] and index_col < @table_df.index_col[@index]').shots_count_away.sum()))\n",
    "    group_home_0_9_1.append((xg_base_matches.query('home == @table_df.home[@index] and id_tournament == @table_df.id_tournament[@index] and index_col < @table_df.index_col[@index]').shots_home_0_9_1.sum() + xg_base_matches.query('away == @table_df.home[@index] and id_tournament == @table_df.id_tournament[@index] and index_col < @table_df.index_col[@index]').shots_away_0_9_1.sum()) / (xg_base_matches.query('home == @table_df.home[@index] and id_tournament == @table_df.id_tournament[@index] and index_col < @table_df.index_col[@index]').shots_count_home.sum() + xg_base_matches.query('away == @table_df.home[@index] and id_tournament == @table_df.id_tournament[@index] and index_col < @table_df.index_col[@index]').shots_count_away.sum()))\n",
    "    group_away_0_0_1.append((xg_base_matches.query('away == @table_df.away[@index] and id_tournament == @table_df.id_tournament[@index] and index_col < @table_df.index_col[@index]').shots_away_0_0_1.sum() + xg_base_matches.query('home == @table_df.away[@index] and id_tournament == @table_df.id_tournament[@index] and index_col < @table_df.index_col[@index]').shots_home_0_0_1.sum()) / (xg_base_matches.query('away == @table_df.away[@index] and id_tournament == @table_df.id_tournament[@index] and index_col < @table_df.index_col[@index]').shots_count_away.sum() + xg_base_matches.query('home == @table_df.away[@index] and id_tournament == @table_df.id_tournament[@index] and index_col < @table_df.index_col[@index]').shots_count_home.sum()))\n",
    "    group_away_0_1_0_2.append((xg_base_matches.query('away == @table_df.away[@index] and id_tournament == @table_df.id_tournament[@index] and index_col < @table_df.index_col[@index]').shots_away_0_1_0_2.sum() + xg_base_matches.query('home == @table_df.away[@index] and id_tournament == @table_df.id_tournament[@index] and index_col < @table_df.index_col[@index]').shots_home_0_1_0_2.sum()) / (xg_base_matches.query('away == @table_df.away[@index] and id_tournament == @table_df.id_tournament[@index] and index_col < @table_df.index_col[@index]').shots_count_away.sum() + xg_base_matches.query('home == @table_df.away[@index] and id_tournament == @table_df.id_tournament[@index] and index_col < @table_df.index_col[@index]').shots_count_home.sum()))\n",
    "    group_away_0_2_0_3.append((xg_base_matches.query('away == @table_df.away[@index] and id_tournament == @table_df.id_tournament[@index] and index_col < @table_df.index_col[@index]').shots_away_0_2_0_3.sum() + xg_base_matches.query('home == @table_df.away[@index] and id_tournament == @table_df.id_tournament[@index] and index_col < @table_df.index_col[@index]').shots_home_0_2_0_3.sum()) / (xg_base_matches.query('away == @table_df.away[@index] and id_tournament == @table_df.id_tournament[@index] and index_col < @table_df.index_col[@index]').shots_count_away.sum() + xg_base_matches.query('home == @table_df.away[@index] and id_tournament == @table_df.id_tournament[@index] and index_col < @table_df.index_col[@index]').shots_count_home.sum()))\n",
    "    group_away_0_3_0_4.append((xg_base_matches.query('away == @table_df.away[@index] and id_tournament == @table_df.id_tournament[@index] and index_col < @table_df.index_col[@index]').shots_away_0_3_0_4.sum() + xg_base_matches.query('home == @table_df.away[@index] and id_tournament == @table_df.id_tournament[@index] and index_col < @table_df.index_col[@index]').shots_home_0_3_0_4.sum()) / (xg_base_matches.query('away == @table_df.away[@index] and id_tournament == @table_df.id_tournament[@index] and index_col < @table_df.index_col[@index]').shots_count_away.sum() + xg_base_matches.query('home == @table_df.away[@index] and id_tournament == @table_df.id_tournament[@index] and index_col < @table_df.index_col[@index]').shots_count_home.sum()))\n",
    "    group_away_0_4_0_5.append((xg_base_matches.query('away == @table_df.away[@index] and id_tournament == @table_df.id_tournament[@index] and index_col < @table_df.index_col[@index]').shots_away_0_4_0_5.sum() + xg_base_matches.query('home == @table_df.away[@index] and id_tournament == @table_df.id_tournament[@index] and index_col < @table_df.index_col[@index]').shots_home_0_4_0_5.sum()) / (xg_base_matches.query('away == @table_df.away[@index] and id_tournament == @table_df.id_tournament[@index] and index_col < @table_df.index_col[@index]').shots_count_away.sum() + xg_base_matches.query('home == @table_df.away[@index] and id_tournament == @table_df.id_tournament[@index] and index_col < @table_df.index_col[@index]').shots_count_home.sum()))\n",
    "    group_away_0_5_0_6.append((xg_base_matches.query('away == @table_df.away[@index] and id_tournament == @table_df.id_tournament[@index] and index_col < @table_df.index_col[@index]').shots_away_0_5_0_6.sum() + xg_base_matches.query('home == @table_df.away[@index] and id_tournament == @table_df.id_tournament[@index] and index_col < @table_df.index_col[@index]').shots_home_0_5_0_6.sum()) / (xg_base_matches.query('away == @table_df.away[@index] and id_tournament == @table_df.id_tournament[@index] and index_col < @table_df.index_col[@index]').shots_count_away.sum() + xg_base_matches.query('home == @table_df.away[@index] and id_tournament == @table_df.id_tournament[@index] and index_col < @table_df.index_col[@index]').shots_count_home.sum()))\n",
    "    group_away_0_6_0_7.append((xg_base_matches.query('away == @table_df.away[@index] and id_tournament == @table_df.id_tournament[@index] and index_col < @table_df.index_col[@index]').shots_away_0_6_0_7.sum() + xg_base_matches.query('home == @table_df.away[@index] and id_tournament == @table_df.id_tournament[@index] and index_col < @table_df.index_col[@index]').shots_home_0_6_0_7.sum()) / (xg_base_matches.query('away == @table_df.away[@index] and id_tournament == @table_df.id_tournament[@index] and index_col < @table_df.index_col[@index]').shots_count_away.sum() + xg_base_matches.query('home == @table_df.away[@index] and id_tournament == @table_df.id_tournament[@index] and index_col < @table_df.index_col[@index]').shots_count_home.sum()))\n",
    "    group_away_0_7_0_8.append((xg_base_matches.query('away == @table_df.away[@index] and id_tournament == @table_df.id_tournament[@index] and index_col < @table_df.index_col[@index]').shots_away_0_7_0_8.sum() + xg_base_matches.query('home == @table_df.away[@index] and id_tournament == @table_df.id_tournament[@index] and index_col < @table_df.index_col[@index]').shots_home_0_7_0_8.sum()) / (xg_base_matches.query('away == @table_df.away[@index] and id_tournament == @table_df.id_tournament[@index] and index_col < @table_df.index_col[@index]').shots_count_away.sum() + xg_base_matches.query('home == @table_df.away[@index] and id_tournament == @table_df.id_tournament[@index] and index_col < @table_df.index_col[@index]').shots_count_home.sum()))\n",
    "    group_away_0_8_0_9.append((xg_base_matches.query('away == @table_df.away[@index] and id_tournament == @table_df.id_tournament[@index] and index_col < @table_df.index_col[@index]').shots_away_0_8_0_9.sum() + xg_base_matches.query('home == @table_df.away[@index] and id_tournament == @table_df.id_tournament[@index] and index_col < @table_df.index_col[@index]').shots_home_0_8_0_9.sum()) / (xg_base_matches.query('away == @table_df.away[@index] and id_tournament == @table_df.id_tournament[@index] and index_col < @table_df.index_col[@index]').shots_count_away.sum() + xg_base_matches.query('home == @table_df.away[@index] and id_tournament == @table_df.id_tournament[@index] and index_col < @table_df.index_col[@index]').shots_count_home.sum()))\n",
    "    group_away_0_9_1.append((xg_base_matches.query('away == @table_df.away[@index] and id_tournament == @table_df.id_tournament[@index] and index_col < @table_df.index_col[@index]').shots_away_0_9_1.sum() + xg_base_matches.query('home == @table_df.away[@index] and id_tournament == @table_df.id_tournament[@index] and index_col < @table_df.index_col[@index]').shots_home_0_9_1.sum()) / (xg_base_matches.query('away == @table_df.away[@index] and id_tournament == @table_df.id_tournament[@index] and index_col < @table_df.index_col[@index]').shots_count_away.sum() + xg_base_matches.query('home == @table_df.away[@index] and id_tournament == @table_df.id_tournament[@index] and index_col < @table_df.index_col[@index]').shots_count_home.sum()))\n",
    "    exp_xg100_home.append((xg_base_matches.query('home == @table_df.home[@index] and id_tournament == @table_df.id_tournament[@index] and index_col < @table_df.index_col[@index]').xg_home_team.sum() + xg_base_matches.query('away == @table_df.home[@index] and id_tournament == @table_df.id_tournament[@index] and index_col < @table_df.index_col[@index]').xg_away_team.sum()) / (xg_base_matches.query('home == @table_df.home[@index] and id_tournament == @table_df.id_tournament[@index] and index_col < @table_df.index_col[@index]').shots_count_home.sum() + xg_base_matches.query('away == @table_df.home[@index] and id_tournament == @table_df.id_tournament[@index] and index_col < @table_df.index_col[@index]').shots_count_away.sum()) * 100)\n",
    "    exp_xg100_away.append((xg_base_matches.query('away == @table_df.away[@index] and id_tournament == @table_df.id_tournament[@index] and index_col < @table_df.index_col[@index]').xg_away_team.sum() + xg_base_matches.query('home == @table_df.away[@index] and id_tournament == @table_df.id_tournament[@index] and index_col < @table_df.index_col[@index]').xg_home_team.sum()) / (xg_base_matches.query('away == @table_df.away[@index] and id_tournament == @table_df.id_tournament[@index] and index_col < @table_df.index_col[@index]').shots_count_away.sum() + xg_base_matches.query('home == @table_df.away[@index] and id_tournament == @table_df.id_tournament[@index] and index_col < @table_df.index_col[@index]').shots_count_home.sum()) * 100)\n",
    "\n",
    "    index = index +1"
   ],
   "metadata": {
    "collapsed": false,
    "pycharm": {
     "name": "#%%\n"
    }
   }
  },
  {
   "cell_type": "code",
   "execution_count": null,
   "outputs": [],
   "source": [
    "table_df['home_0-0.1'] = group_home_0_0_1\n",
    "table_df['home_0.1-0.2'] = group_home_0_1_0_2\n",
    "table_df['home_0.2-0.3'] = group_home_0_2_0_3\n",
    "table_df['home_0.3-0.4'] = group_home_0_3_0_4\n",
    "table_df['home_0.4-0.5'] = group_home_0_4_0_5\n",
    "table_df['home_0.5-0.6'] = group_home_0_5_0_6\n",
    "table_df['home_0.6-0.7'] = group_home_0_6_0_7\n",
    "table_df['home_0.7-0.8'] = group_home_0_7_0_8\n",
    "table_df['home_0.8-0.9'] = group_home_0_8_0_9\n",
    "table_df['home_0.9-1'] = group_home_0_9_1\n",
    "table_df['away_0-0.1'] = group_away_0_0_1\n",
    "table_df['away_0.1-0.2'] = group_away_0_1_0_2\n",
    "table_df['away_0.2-0.3'] = group_away_0_2_0_3\n",
    "table_df['away_0.3-0.4'] = group_away_0_3_0_4\n",
    "table_df['away_0.4-0.5'] = group_away_0_4_0_5\n",
    "table_df['away_0.5-0.6'] = group_away_0_5_0_6\n",
    "table_df['away_0.6-0.7'] = group_away_0_6_0_7\n",
    "table_df['away_0.7-0.8'] = group_away_0_7_0_8\n",
    "table_df['away_0.8-0.9'] = group_away_0_8_0_9\n",
    "table_df['away_0.9-1'] = group_away_0_9_1\n",
    "table_df['exp_xg100_home'] = exp_xg100_home\n",
    "table_df['exp_xg100_away'] = exp_xg100_away\n",
    "table_df = table_df.reindex(columns=['id_offvariance', 'date', 'id_tournament', 'home', 'away', 'score_home', 'score_away', 'exp_xg100_home', 'exp_xg100_away', 'games_home', 'games_away', 'home_0-0.1', 'home_0.1-0.2', 'home_0.2-0.3', 'home_0.3-0.4', 'home_0.4-0.5', 'home_0.5-0.6', 'home_0.6-0.7', 'home_0.7-0.8', 'home_0.8-0.9', 'home_0.9-1', 'away_0-0.1', 'away_0.1-0.2', 'away_0.2-0.3', 'away_0.3-0.4', 'away_0.4-0.5', 'away_0.5-0.6', 'away_0.6-0.7', 'away_0.7-0.8', 'away_0.8-0.9', 'away_0.9-1', 'home_goals', 'away_goals', 'home_missed_goals', 'away_missed_goals', 'goal_difference_home', 'goal_difference_away', 'open_home', 'open_draw', 'open_away', 'open_over_2_5', 'open_under_2_5', 'close_home', 'close_draw', 'close_away', 'close_over_2_5', 'close_under_2_5', 'profit_home_open', 'profit_draw_open', 'profit_away_open', 'profit_over_2_5_open', 'profit_under_2_5_open', 'profit_home_close', 'profit_draw_close', 'profit_away_close', 'profit_over_2_5_close', 'profit_under_2_5_close' , 'index_col'])\n",
    "table_df"
   ],
   "metadata": {
    "collapsed": false,
    "pycharm": {
     "name": "#%%\n"
    }
   }
  },
  {
   "cell_type": "code",
   "execution_count": null,
   "outputs": [],
   "source": [],
   "metadata": {
    "collapsed": false,
    "pycharm": {
     "name": "#%%\n"
    }
   }
  },
  {
   "cell_type": "code",
   "execution_count": null,
   "outputs": [],
   "source": [],
   "metadata": {
    "collapsed": false,
    "pycharm": {
     "name": "#%%\n"
    }
   }
  },
  {
   "cell_type": "code",
   "execution_count": null,
   "outputs": [],
   "source": [
    "# table_csv = f'table_df_{DT.now():%Y-%m-%d_%H-%M}.csv'\n",
    "# table_df.to_csv(table_csv)"
   ],
   "metadata": {
    "collapsed": false,
    "pycharm": {
     "name": "#%%\n"
    }
   }
  }
 ],
 "metadata": {
  "kernelspec": {
   "display_name": "Python 3",
   "language": "python",
   "name": "python3"
  },
  "language_info": {
   "codemirror_mode": {
    "name": "ipython",
    "version": 2
   },
   "file_extension": ".py",
   "mimetype": "text/x-python",
   "name": "python",
   "nbconvert_exporter": "python",
   "pygments_lexer": "ipython2",
   "version": "2.7.6"
  }
 },
 "nbformat": 4,
 "nbformat_minor": 0
}