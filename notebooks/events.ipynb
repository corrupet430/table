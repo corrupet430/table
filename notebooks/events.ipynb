{
 "cells": [
  {
   "cell_type": "code",
   "execution_count": 2,
   "metadata": {
    "collapsed": true
   },
   "outputs": [],
   "source": [
    "import pandas as pd"
   ]
  },
  {
   "cell_type": "code",
   "execution_count": 4,
   "outputs": [
    {
     "data": {
      "text/plain": "         ID_MATCH                 DATE                    TOURNAMENT MINUTE  \\\n0          123738  01.01.1970 03:00:00  England League One 2021_2022      3   \n1          123738                  NaN  England League One 2021_2022     11   \n2          123738                  NaN  England League One 2021_2022     15   \n3          123738                  NaN  England League One 2021_2022     15   \n4          123738                  NaN  England League One 2021_2022     17   \n...           ...                  ...                           ...    ...   \n1628253    145737                  NaN       Spain LaLiga2 2021_2022     64   \n1628254    145737                  NaN       Spain LaLiga2 2021_2022     64   \n1628255    145737                  NaN       Spain LaLiga2 2021_2022     73   \n1628256    145737                  NaN       Spain LaLiga2 2021_2022     90   \n1628257    145737                  NaN       Spain LaLiga2 2021_2022   90+1   \n\n        SCORE                            PLAYER_1 RESULT_1   XG_1  \\\n0         0-0                                 NaN      NaN    NaN   \n1         0-0    C. BISHOP [Accrington] [Stanley]     save  0.088   \n2         0-0    C. BISHOP [Accrington] [Stanley]     save  0.447   \n3         0-0  J. MUMBONGO [Accrington] [Stanley]     goal  0.746   \n4         1-0                                 NaN      NaN    NaN   \n...       ...                                 ...      ...    ...   \n1628253   0-1               JUAN VILLAR [Almeria]     save  0.065   \n1628254   0-1           CÉSAR DE LA HOZ [Almeria]  missing  0.145   \n1628255   0-1             SERGIO AKIEME [Almería]  missing  0.053   \n1628256   0-1               JUAN VILLAR [Almeria]  nopenal  0.775   \n1628257   0-1                                 NaN      NaN    NaN   \n\n                               PLAYER_2 RESULT_2  ...  O-WIN1  O-DRAW  O-WIN2  \\\n0          G. NURSE [Shrewsbury] [Town]  missing  ...    1.94    3.34     4.0   \n1                                   NaN      NaN  ...     NaN     NaN     NaN   \n2                                   NaN      NaN  ...     NaN     NaN     NaN   \n3                                   NaN      NaN  ...     NaN     NaN     NaN   \n4        T. BLOXHAM [Shrewsbury] [Town]     save  ...     NaN     NaN     NaN   \n...                                 ...      ...  ...     ...     ...     ...   \n1628253                             NaN      NaN  ...     NaN     NaN     NaN   \n1628254                             NaN      NaN  ...     NaN     NaN     NaN   \n1628255                             NaN      NaN  ...     NaN     NaN     NaN   \n1628256                             NaN      NaN  ...     NaN     NaN     NaN   \n1628257            IVÁN MARTÍN [Girona]  missing  ...     NaN     NaN     NaN   \n\n         O-TB25  O-TM25 C-WIN1 C-DRAW  C-WIN2  C-TB25  C-TM25  \n0          2.18    1.66   2.17   3.39    3.59    2.14    1.75  \n1           NaN     NaN    NaN    NaN     NaN     NaN     NaN  \n2           NaN     NaN    NaN    NaN     NaN     NaN     NaN  \n3           NaN     NaN    NaN    NaN     NaN     NaN     NaN  \n4           NaN     NaN    NaN    NaN     NaN     NaN     NaN  \n...         ...     ...    ...    ...     ...     ...     ...  \n1628253     NaN     NaN    NaN    NaN     NaN     NaN     NaN  \n1628254     NaN     NaN    NaN    NaN     NaN     NaN     NaN  \n1628255     NaN     NaN    NaN    NaN     NaN     NaN     NaN  \n1628256     NaN     NaN    NaN    NaN     NaN     NaN     NaN  \n1628257     NaN     NaN    NaN    NaN     NaN     NaN     NaN  \n\n[1628258 rows x 27 columns]",
      "text/html": "<div>\n<style scoped>\n    .dataframe tbody tr th:only-of-type {\n        vertical-align: middle;\n    }\n\n    .dataframe tbody tr th {\n        vertical-align: top;\n    }\n\n    .dataframe thead th {\n        text-align: right;\n    }\n</style>\n<table border=\"1\" class=\"dataframe\">\n  <thead>\n    <tr style=\"text-align: right;\">\n      <th></th>\n      <th>ID_MATCH</th>\n      <th>DATE</th>\n      <th>TOURNAMENT</th>\n      <th>MINUTE</th>\n      <th>SCORE</th>\n      <th>PLAYER_1</th>\n      <th>RESULT_1</th>\n      <th>XG_1</th>\n      <th>PLAYER_2</th>\n      <th>RESULT_2</th>\n      <th>...</th>\n      <th>O-WIN1</th>\n      <th>O-DRAW</th>\n      <th>O-WIN2</th>\n      <th>O-TB25</th>\n      <th>O-TM25</th>\n      <th>C-WIN1</th>\n      <th>C-DRAW</th>\n      <th>C-WIN2</th>\n      <th>C-TB25</th>\n      <th>C-TM25</th>\n    </tr>\n  </thead>\n  <tbody>\n    <tr>\n      <th>0</th>\n      <td>123738</td>\n      <td>01.01.1970 03:00:00</td>\n      <td>England League One 2021_2022</td>\n      <td>3</td>\n      <td>0-0</td>\n      <td>NaN</td>\n      <td>NaN</td>\n      <td>NaN</td>\n      <td>G. NURSE [Shrewsbury] [Town]</td>\n      <td>missing</td>\n      <td>...</td>\n      <td>1.94</td>\n      <td>3.34</td>\n      <td>4.0</td>\n      <td>2.18</td>\n      <td>1.66</td>\n      <td>2.17</td>\n      <td>3.39</td>\n      <td>3.59</td>\n      <td>2.14</td>\n      <td>1.75</td>\n    </tr>\n    <tr>\n      <th>1</th>\n      <td>123738</td>\n      <td>NaN</td>\n      <td>England League One 2021_2022</td>\n      <td>11</td>\n      <td>0-0</td>\n      <td>C. BISHOP [Accrington] [Stanley]</td>\n      <td>save</td>\n      <td>0.088</td>\n      <td>NaN</td>\n      <td>NaN</td>\n      <td>...</td>\n      <td>NaN</td>\n      <td>NaN</td>\n      <td>NaN</td>\n      <td>NaN</td>\n      <td>NaN</td>\n      <td>NaN</td>\n      <td>NaN</td>\n      <td>NaN</td>\n      <td>NaN</td>\n      <td>NaN</td>\n    </tr>\n    <tr>\n      <th>2</th>\n      <td>123738</td>\n      <td>NaN</td>\n      <td>England League One 2021_2022</td>\n      <td>15</td>\n      <td>0-0</td>\n      <td>C. BISHOP [Accrington] [Stanley]</td>\n      <td>save</td>\n      <td>0.447</td>\n      <td>NaN</td>\n      <td>NaN</td>\n      <td>...</td>\n      <td>NaN</td>\n      <td>NaN</td>\n      <td>NaN</td>\n      <td>NaN</td>\n      <td>NaN</td>\n      <td>NaN</td>\n      <td>NaN</td>\n      <td>NaN</td>\n      <td>NaN</td>\n      <td>NaN</td>\n    </tr>\n    <tr>\n      <th>3</th>\n      <td>123738</td>\n      <td>NaN</td>\n      <td>England League One 2021_2022</td>\n      <td>15</td>\n      <td>0-0</td>\n      <td>J. MUMBONGO [Accrington] [Stanley]</td>\n      <td>goal</td>\n      <td>0.746</td>\n      <td>NaN</td>\n      <td>NaN</td>\n      <td>...</td>\n      <td>NaN</td>\n      <td>NaN</td>\n      <td>NaN</td>\n      <td>NaN</td>\n      <td>NaN</td>\n      <td>NaN</td>\n      <td>NaN</td>\n      <td>NaN</td>\n      <td>NaN</td>\n      <td>NaN</td>\n    </tr>\n    <tr>\n      <th>4</th>\n      <td>123738</td>\n      <td>NaN</td>\n      <td>England League One 2021_2022</td>\n      <td>17</td>\n      <td>1-0</td>\n      <td>NaN</td>\n      <td>NaN</td>\n      <td>NaN</td>\n      <td>T. BLOXHAM [Shrewsbury] [Town]</td>\n      <td>save</td>\n      <td>...</td>\n      <td>NaN</td>\n      <td>NaN</td>\n      <td>NaN</td>\n      <td>NaN</td>\n      <td>NaN</td>\n      <td>NaN</td>\n      <td>NaN</td>\n      <td>NaN</td>\n      <td>NaN</td>\n      <td>NaN</td>\n    </tr>\n    <tr>\n      <th>...</th>\n      <td>...</td>\n      <td>...</td>\n      <td>...</td>\n      <td>...</td>\n      <td>...</td>\n      <td>...</td>\n      <td>...</td>\n      <td>...</td>\n      <td>...</td>\n      <td>...</td>\n      <td>...</td>\n      <td>...</td>\n      <td>...</td>\n      <td>...</td>\n      <td>...</td>\n      <td>...</td>\n      <td>...</td>\n      <td>...</td>\n      <td>...</td>\n      <td>...</td>\n      <td>...</td>\n    </tr>\n    <tr>\n      <th>1628253</th>\n      <td>145737</td>\n      <td>NaN</td>\n      <td>Spain LaLiga2 2021_2022</td>\n      <td>64</td>\n      <td>0-1</td>\n      <td>JUAN VILLAR [Almeria]</td>\n      <td>save</td>\n      <td>0.065</td>\n      <td>NaN</td>\n      <td>NaN</td>\n      <td>...</td>\n      <td>NaN</td>\n      <td>NaN</td>\n      <td>NaN</td>\n      <td>NaN</td>\n      <td>NaN</td>\n      <td>NaN</td>\n      <td>NaN</td>\n      <td>NaN</td>\n      <td>NaN</td>\n      <td>NaN</td>\n    </tr>\n    <tr>\n      <th>1628254</th>\n      <td>145737</td>\n      <td>NaN</td>\n      <td>Spain LaLiga2 2021_2022</td>\n      <td>64</td>\n      <td>0-1</td>\n      <td>CÉSAR DE LA HOZ [Almeria]</td>\n      <td>missing</td>\n      <td>0.145</td>\n      <td>NaN</td>\n      <td>NaN</td>\n      <td>...</td>\n      <td>NaN</td>\n      <td>NaN</td>\n      <td>NaN</td>\n      <td>NaN</td>\n      <td>NaN</td>\n      <td>NaN</td>\n      <td>NaN</td>\n      <td>NaN</td>\n      <td>NaN</td>\n      <td>NaN</td>\n    </tr>\n    <tr>\n      <th>1628255</th>\n      <td>145737</td>\n      <td>NaN</td>\n      <td>Spain LaLiga2 2021_2022</td>\n      <td>73</td>\n      <td>0-1</td>\n      <td>SERGIO AKIEME [Almería]</td>\n      <td>missing</td>\n      <td>0.053</td>\n      <td>NaN</td>\n      <td>NaN</td>\n      <td>...</td>\n      <td>NaN</td>\n      <td>NaN</td>\n      <td>NaN</td>\n      <td>NaN</td>\n      <td>NaN</td>\n      <td>NaN</td>\n      <td>NaN</td>\n      <td>NaN</td>\n      <td>NaN</td>\n      <td>NaN</td>\n    </tr>\n    <tr>\n      <th>1628256</th>\n      <td>145737</td>\n      <td>NaN</td>\n      <td>Spain LaLiga2 2021_2022</td>\n      <td>90</td>\n      <td>0-1</td>\n      <td>JUAN VILLAR [Almeria]</td>\n      <td>nopenal</td>\n      <td>0.775</td>\n      <td>NaN</td>\n      <td>NaN</td>\n      <td>...</td>\n      <td>NaN</td>\n      <td>NaN</td>\n      <td>NaN</td>\n      <td>NaN</td>\n      <td>NaN</td>\n      <td>NaN</td>\n      <td>NaN</td>\n      <td>NaN</td>\n      <td>NaN</td>\n      <td>NaN</td>\n    </tr>\n    <tr>\n      <th>1628257</th>\n      <td>145737</td>\n      <td>NaN</td>\n      <td>Spain LaLiga2 2021_2022</td>\n      <td>90+1</td>\n      <td>0-1</td>\n      <td>NaN</td>\n      <td>NaN</td>\n      <td>NaN</td>\n      <td>IVÁN MARTÍN [Girona]</td>\n      <td>missing</td>\n      <td>...</td>\n      <td>NaN</td>\n      <td>NaN</td>\n      <td>NaN</td>\n      <td>NaN</td>\n      <td>NaN</td>\n      <td>NaN</td>\n      <td>NaN</td>\n      <td>NaN</td>\n      <td>NaN</td>\n      <td>NaN</td>\n    </tr>\n  </tbody>\n</table>\n<p>1628258 rows × 27 columns</p>\n</div>"
     },
     "execution_count": 4,
     "metadata": {},
     "output_type": "execute_result"
    }
   ],
   "source": [
    "events = pd.read_csv('/Users/VivoBook/PycharmProjects/pythonProject3/notebooks/csv/events.csv')\n",
    "events"
   ],
   "metadata": {
    "collapsed": false,
    "pycharm": {
     "name": "#%%\n"
    }
   }
  },
  {
   "cell_type": "code",
   "execution_count": 2,
   "outputs": [],
   "source": [],
   "metadata": {
    "collapsed": false,
    "pycharm": {
     "name": "#%%\n"
    }
   }
  },
  {
   "cell_type": "code",
   "execution_count": 2,
   "outputs": [],
   "source": [],
   "metadata": {
    "collapsed": false,
    "pycharm": {
     "name": "#%%\n"
    }
   }
  },
  {
   "cell_type": "code",
   "execution_count": 2,
   "outputs": [],
   "source": [],
   "metadata": {
    "collapsed": false,
    "pycharm": {
     "name": "#%%\n"
    }
   }
  },
  {
   "cell_type": "code",
   "execution_count": 2,
   "outputs": [],
   "source": [],
   "metadata": {
    "collapsed": false,
    "pycharm": {
     "name": "#%%\n"
    }
   }
  }
 ],
 "metadata": {
  "kernelspec": {
   "display_name": "Python 3",
   "language": "python",
   "name": "python3"
  },
  "language_info": {
   "codemirror_mode": {
    "name": "ipython",
    "version": 2
   },
   "file_extension": ".py",
   "mimetype": "text/x-python",
   "name": "python",
   "nbconvert_exporter": "python",
   "pygments_lexer": "ipython2",
   "version": "2.7.6"
  }
 },
 "nbformat": 4,
 "nbformat_minor": 0
}